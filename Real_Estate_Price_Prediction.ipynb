{
  "nbformat": 4,
  "nbformat_minor": 0,
  "metadata": {
    "colab": {
      "provenance": [],
      "authorship_tag": "ABX9TyP/WP12LokpsYrIGV+3e/Ax",
      "include_colab_link": true
    },
    "kernelspec": {
      "name": "python3",
      "display_name": "Python 3"
    },
    "language_info": {
      "name": "python"
    }
  },
  "cells": [
    {
      "cell_type": "markdown",
      "metadata": {
        "id": "view-in-github",
        "colab_type": "text"
      },
      "source": [
        "<a href=\"https://colab.research.google.com/github/manas-jha/Real-Estate-Price-Prediction/blob/master/Real_Estate_Price_Prediction.ipynb\" target=\"_parent\"><img src=\"https://colab.research.google.com/assets/colab-badge.svg\" alt=\"Open In Colab\"/></a>"
      ]
    },
    {
      "cell_type": "markdown",
      "source": [
        "# Import Libraries"
      ],
      "metadata": {
        "id": "Cq2kWJn3KFGK"
      }
    },
    {
      "cell_type": "code",
      "execution_count": 78,
      "metadata": {
        "id": "HZ3kB7QlFdu2"
      },
      "outputs": [],
      "source": [
        "import pandas as pd\n",
        "import numpy as np\n",
        "import matplotlib.pyplot as plt\n",
        "import seaborn as sns\n",
        "import re\n",
        "from sklearn.model_selection import train_test_split\n",
        "from sklearn.linear_model import LinearRegression\n",
        "from sklearn.metrics import mean_squared_error\n",
        "from sklearn.metrics import mean_squared_error, mean_absolute_error\n",
        "from IPython.display import display"
      ]
    },
    {
      "cell_type": "code",
      "source": [
        "df = pd.read_csv('https://raw.githubusercontent.com/manas-jha/Real-Estate-Price-Prediction/master/Datasets/house_price-Dataset.csv')\n",
        "df.head()"
      ],
      "metadata": {
        "colab": {
          "base_uri": "https://localhost:8080/",
          "height": 206
        },
        "id": "TQdjymAiKJJi",
        "outputId": "28120fdf-ef52-4e13-bd56-b0982fad5f77"
      },
      "execution_count": 79,
      "outputs": [
        {
          "output_type": "execute_result",
          "data": {
            "text/plain": [
              "              area_type                  location  society       size  \\\n",
              "0  Super built-up  Area  Electronic City Phase II  Coomee       2 BHK   \n",
              "1            Plot  Area          Chikka Tirupathi  Theanmp  4 Bedroom   \n",
              "2        Built-up  Area               Uttarahalli      NaN      3 BHK   \n",
              "3  Super built-up  Area        Lingadheeranahalli  Soiewre      3 BHK   \n",
              "4  Super built-up  Area                  Kothanur      NaN      2 BHK   \n",
              "\n",
              "  total_sqft    sqft  bath  balcony possession date   price  \n",
              "0       1056  1056.0   2.0      1.0           44192   39.07  \n",
              "1       2600  2600.0   5.0      3.0   Ready to move  120.00  \n",
              "2       1440  1440.0   2.0      3.0   Ready to move   62.00  \n",
              "3       1521  1521.0   3.0      1.0   Ready to move   95.00  \n",
              "4       1200  1200.0   2.0      1.0   Ready to move   51.00  "
            ],
            "text/html": [
              "\n",
              "  <div id=\"df-b3dd92aa-21a6-4c46-860c-8823f66ef14b\" class=\"colab-df-container\">\n",
              "    <div>\n",
              "<style scoped>\n",
              "    .dataframe tbody tr th:only-of-type {\n",
              "        vertical-align: middle;\n",
              "    }\n",
              "\n",
              "    .dataframe tbody tr th {\n",
              "        vertical-align: top;\n",
              "    }\n",
              "\n",
              "    .dataframe thead th {\n",
              "        text-align: right;\n",
              "    }\n",
              "</style>\n",
              "<table border=\"1\" class=\"dataframe\">\n",
              "  <thead>\n",
              "    <tr style=\"text-align: right;\">\n",
              "      <th></th>\n",
              "      <th>area_type</th>\n",
              "      <th>location</th>\n",
              "      <th>society</th>\n",
              "      <th>size</th>\n",
              "      <th>total_sqft</th>\n",
              "      <th>sqft</th>\n",
              "      <th>bath</th>\n",
              "      <th>balcony</th>\n",
              "      <th>possession date</th>\n",
              "      <th>price</th>\n",
              "    </tr>\n",
              "  </thead>\n",
              "  <tbody>\n",
              "    <tr>\n",
              "      <th>0</th>\n",
              "      <td>Super built-up  Area</td>\n",
              "      <td>Electronic City Phase II</td>\n",
              "      <td>Coomee</td>\n",
              "      <td>2 BHK</td>\n",
              "      <td>1056</td>\n",
              "      <td>1056.0</td>\n",
              "      <td>2.0</td>\n",
              "      <td>1.0</td>\n",
              "      <td>44192</td>\n",
              "      <td>39.07</td>\n",
              "    </tr>\n",
              "    <tr>\n",
              "      <th>1</th>\n",
              "      <td>Plot  Area</td>\n",
              "      <td>Chikka Tirupathi</td>\n",
              "      <td>Theanmp</td>\n",
              "      <td>4 Bedroom</td>\n",
              "      <td>2600</td>\n",
              "      <td>2600.0</td>\n",
              "      <td>5.0</td>\n",
              "      <td>3.0</td>\n",
              "      <td>Ready to move</td>\n",
              "      <td>120.00</td>\n",
              "    </tr>\n",
              "    <tr>\n",
              "      <th>2</th>\n",
              "      <td>Built-up  Area</td>\n",
              "      <td>Uttarahalli</td>\n",
              "      <td>NaN</td>\n",
              "      <td>3 BHK</td>\n",
              "      <td>1440</td>\n",
              "      <td>1440.0</td>\n",
              "      <td>2.0</td>\n",
              "      <td>3.0</td>\n",
              "      <td>Ready to move</td>\n",
              "      <td>62.00</td>\n",
              "    </tr>\n",
              "    <tr>\n",
              "      <th>3</th>\n",
              "      <td>Super built-up  Area</td>\n",
              "      <td>Lingadheeranahalli</td>\n",
              "      <td>Soiewre</td>\n",
              "      <td>3 BHK</td>\n",
              "      <td>1521</td>\n",
              "      <td>1521.0</td>\n",
              "      <td>3.0</td>\n",
              "      <td>1.0</td>\n",
              "      <td>Ready to move</td>\n",
              "      <td>95.00</td>\n",
              "    </tr>\n",
              "    <tr>\n",
              "      <th>4</th>\n",
              "      <td>Super built-up  Area</td>\n",
              "      <td>Kothanur</td>\n",
              "      <td>NaN</td>\n",
              "      <td>2 BHK</td>\n",
              "      <td>1200</td>\n",
              "      <td>1200.0</td>\n",
              "      <td>2.0</td>\n",
              "      <td>1.0</td>\n",
              "      <td>Ready to move</td>\n",
              "      <td>51.00</td>\n",
              "    </tr>\n",
              "  </tbody>\n",
              "</table>\n",
              "</div>\n",
              "    <div class=\"colab-df-buttons\">\n",
              "\n",
              "  <div class=\"colab-df-container\">\n",
              "    <button class=\"colab-df-convert\" onclick=\"convertToInteractive('df-b3dd92aa-21a6-4c46-860c-8823f66ef14b')\"\n",
              "            title=\"Convert this dataframe to an interactive table.\"\n",
              "            style=\"display:none;\">\n",
              "\n",
              "  <svg xmlns=\"http://www.w3.org/2000/svg\" height=\"24px\" viewBox=\"0 -960 960 960\">\n",
              "    <path d=\"M120-120v-720h720v720H120Zm60-500h600v-160H180v160Zm220 220h160v-160H400v160Zm0 220h160v-160H400v160ZM180-400h160v-160H180v160Zm440 0h160v-160H620v160ZM180-180h160v-160H180v160Zm440 0h160v-160H620v160Z\"/>\n",
              "  </svg>\n",
              "    </button>\n",
              "\n",
              "  <style>\n",
              "    .colab-df-container {\n",
              "      display:flex;\n",
              "      gap: 12px;\n",
              "    }\n",
              "\n",
              "    .colab-df-convert {\n",
              "      background-color: #E8F0FE;\n",
              "      border: none;\n",
              "      border-radius: 50%;\n",
              "      cursor: pointer;\n",
              "      display: none;\n",
              "      fill: #1967D2;\n",
              "      height: 32px;\n",
              "      padding: 0 0 0 0;\n",
              "      width: 32px;\n",
              "    }\n",
              "\n",
              "    .colab-df-convert:hover {\n",
              "      background-color: #E2EBFA;\n",
              "      box-shadow: 0px 1px 2px rgba(60, 64, 67, 0.3), 0px 1px 3px 1px rgba(60, 64, 67, 0.15);\n",
              "      fill: #174EA6;\n",
              "    }\n",
              "\n",
              "    .colab-df-buttons div {\n",
              "      margin-bottom: 4px;\n",
              "    }\n",
              "\n",
              "    [theme=dark] .colab-df-convert {\n",
              "      background-color: #3B4455;\n",
              "      fill: #D2E3FC;\n",
              "    }\n",
              "\n",
              "    [theme=dark] .colab-df-convert:hover {\n",
              "      background-color: #434B5C;\n",
              "      box-shadow: 0px 1px 3px 1px rgba(0, 0, 0, 0.15);\n",
              "      filter: drop-shadow(0px 1px 2px rgba(0, 0, 0, 0.3));\n",
              "      fill: #FFFFFF;\n",
              "    }\n",
              "  </style>\n",
              "\n",
              "    <script>\n",
              "      const buttonEl =\n",
              "        document.querySelector('#df-b3dd92aa-21a6-4c46-860c-8823f66ef14b button.colab-df-convert');\n",
              "      buttonEl.style.display =\n",
              "        google.colab.kernel.accessAllowed ? 'block' : 'none';\n",
              "\n",
              "      async function convertToInteractive(key) {\n",
              "        const element = document.querySelector('#df-b3dd92aa-21a6-4c46-860c-8823f66ef14b');\n",
              "        const dataTable =\n",
              "          await google.colab.kernel.invokeFunction('convertToInteractive',\n",
              "                                                    [key], {});\n",
              "        if (!dataTable) return;\n",
              "\n",
              "        const docLinkHtml = 'Like what you see? Visit the ' +\n",
              "          '<a target=\"_blank\" href=https://colab.research.google.com/notebooks/data_table.ipynb>data table notebook</a>'\n",
              "          + ' to learn more about interactive tables.';\n",
              "        element.innerHTML = '';\n",
              "        dataTable['output_type'] = 'display_data';\n",
              "        await google.colab.output.renderOutput(dataTable, element);\n",
              "        const docLink = document.createElement('div');\n",
              "        docLink.innerHTML = docLinkHtml;\n",
              "        element.appendChild(docLink);\n",
              "      }\n",
              "    </script>\n",
              "  </div>\n",
              "\n",
              "\n",
              "<div id=\"df-8cef4672-704e-49af-be2c-62e8dbb7e360\">\n",
              "  <button class=\"colab-df-quickchart\" onclick=\"quickchart('df-8cef4672-704e-49af-be2c-62e8dbb7e360')\"\n",
              "            title=\"Suggest charts\"\n",
              "            style=\"display:none;\">\n",
              "\n",
              "<svg xmlns=\"http://www.w3.org/2000/svg\" height=\"24px\"viewBox=\"0 0 24 24\"\n",
              "     width=\"24px\">\n",
              "    <g>\n",
              "        <path d=\"M19 3H5c-1.1 0-2 .9-2 2v14c0 1.1.9 2 2 2h14c1.1 0 2-.9 2-2V5c0-1.1-.9-2-2-2zM9 17H7v-7h2v7zm4 0h-2V7h2v10zm4 0h-2v-4h2v4z\"/>\n",
              "    </g>\n",
              "</svg>\n",
              "  </button>\n",
              "\n",
              "<style>\n",
              "  .colab-df-quickchart {\n",
              "      --bg-color: #E8F0FE;\n",
              "      --fill-color: #1967D2;\n",
              "      --hover-bg-color: #E2EBFA;\n",
              "      --hover-fill-color: #174EA6;\n",
              "      --disabled-fill-color: #AAA;\n",
              "      --disabled-bg-color: #DDD;\n",
              "  }\n",
              "\n",
              "  [theme=dark] .colab-df-quickchart {\n",
              "      --bg-color: #3B4455;\n",
              "      --fill-color: #D2E3FC;\n",
              "      --hover-bg-color: #434B5C;\n",
              "      --hover-fill-color: #FFFFFF;\n",
              "      --disabled-bg-color: #3B4455;\n",
              "      --disabled-fill-color: #666;\n",
              "  }\n",
              "\n",
              "  .colab-df-quickchart {\n",
              "    background-color: var(--bg-color);\n",
              "    border: none;\n",
              "    border-radius: 50%;\n",
              "    cursor: pointer;\n",
              "    display: none;\n",
              "    fill: var(--fill-color);\n",
              "    height: 32px;\n",
              "    padding: 0;\n",
              "    width: 32px;\n",
              "  }\n",
              "\n",
              "  .colab-df-quickchart:hover {\n",
              "    background-color: var(--hover-bg-color);\n",
              "    box-shadow: 0 1px 2px rgba(60, 64, 67, 0.3), 0 1px 3px 1px rgba(60, 64, 67, 0.15);\n",
              "    fill: var(--button-hover-fill-color);\n",
              "  }\n",
              "\n",
              "  .colab-df-quickchart-complete:disabled,\n",
              "  .colab-df-quickchart-complete:disabled:hover {\n",
              "    background-color: var(--disabled-bg-color);\n",
              "    fill: var(--disabled-fill-color);\n",
              "    box-shadow: none;\n",
              "  }\n",
              "\n",
              "  .colab-df-spinner {\n",
              "    border: 2px solid var(--fill-color);\n",
              "    border-color: transparent;\n",
              "    border-bottom-color: var(--fill-color);\n",
              "    animation:\n",
              "      spin 1s steps(1) infinite;\n",
              "  }\n",
              "\n",
              "  @keyframes spin {\n",
              "    0% {\n",
              "      border-color: transparent;\n",
              "      border-bottom-color: var(--fill-color);\n",
              "      border-left-color: var(--fill-color);\n",
              "    }\n",
              "    20% {\n",
              "      border-color: transparent;\n",
              "      border-left-color: var(--fill-color);\n",
              "      border-top-color: var(--fill-color);\n",
              "    }\n",
              "    30% {\n",
              "      border-color: transparent;\n",
              "      border-left-color: var(--fill-color);\n",
              "      border-top-color: var(--fill-color);\n",
              "      border-right-color: var(--fill-color);\n",
              "    }\n",
              "    40% {\n",
              "      border-color: transparent;\n",
              "      border-right-color: var(--fill-color);\n",
              "      border-top-color: var(--fill-color);\n",
              "    }\n",
              "    60% {\n",
              "      border-color: transparent;\n",
              "      border-right-color: var(--fill-color);\n",
              "    }\n",
              "    80% {\n",
              "      border-color: transparent;\n",
              "      border-right-color: var(--fill-color);\n",
              "      border-bottom-color: var(--fill-color);\n",
              "    }\n",
              "    90% {\n",
              "      border-color: transparent;\n",
              "      border-bottom-color: var(--fill-color);\n",
              "    }\n",
              "  }\n",
              "</style>\n",
              "\n",
              "  <script>\n",
              "    async function quickchart(key) {\n",
              "      const quickchartButtonEl =\n",
              "        document.querySelector('#' + key + ' button');\n",
              "      quickchartButtonEl.disabled = true;  // To prevent multiple clicks.\n",
              "      quickchartButtonEl.classList.add('colab-df-spinner');\n",
              "      try {\n",
              "        const charts = await google.colab.kernel.invokeFunction(\n",
              "            'suggestCharts', [key], {});\n",
              "      } catch (error) {\n",
              "        console.error('Error during call to suggestCharts:', error);\n",
              "      }\n",
              "      quickchartButtonEl.classList.remove('colab-df-spinner');\n",
              "      quickchartButtonEl.classList.add('colab-df-quickchart-complete');\n",
              "    }\n",
              "    (() => {\n",
              "      let quickchartButtonEl =\n",
              "        document.querySelector('#df-8cef4672-704e-49af-be2c-62e8dbb7e360 button');\n",
              "      quickchartButtonEl.style.display =\n",
              "        google.colab.kernel.accessAllowed ? 'block' : 'none';\n",
              "    })();\n",
              "  </script>\n",
              "</div>\n",
              "\n",
              "    </div>\n",
              "  </div>\n"
            ],
            "application/vnd.google.colaboratory.intrinsic+json": {
              "type": "dataframe",
              "variable_name": "df",
              "summary": "{\n  \"name\": \"df\",\n  \"rows\": 13314,\n  \"fields\": [\n    {\n      \"column\": \"area_type\",\n      \"properties\": {\n        \"dtype\": \"category\",\n        \"num_unique_values\": 4,\n        \"samples\": [\n          \"Plot  Area\",\n          \"Carpet  Area\",\n          \"Super built-up  Area\"\n        ],\n        \"semantic_type\": \"\",\n        \"description\": \"\"\n      }\n    },\n    {\n      \"column\": \"location\",\n      \"properties\": {\n        \"dtype\": \"category\",\n        \"num_unique_values\": 1304,\n        \"samples\": [\n          \"Gollarahatti\",\n          \"Marsur\",\n          \"Lake City\"\n        ],\n        \"semantic_type\": \"\",\n        \"description\": \"\"\n      }\n    },\n    {\n      \"column\": \"society\",\n      \"properties\": {\n        \"dtype\": \"category\",\n        \"num_unique_values\": 2688,\n        \"samples\": [\n          \"DStra S\",\n          \"Aples M\",\n          \"DNlleks\"\n        ],\n        \"semantic_type\": \"\",\n        \"description\": \"\"\n      }\n    },\n    {\n      \"column\": \"size\",\n      \"properties\": {\n        \"dtype\": \"category\",\n        \"num_unique_values\": 31,\n        \"samples\": [\n          \"8 BHK\",\n          \"5 Bedroom\",\n          \"19 BHK\"\n        ],\n        \"semantic_type\": \"\",\n        \"description\": \"\"\n      }\n    },\n    {\n      \"column\": \"total_sqft\",\n      \"properties\": {\n        \"dtype\": \"category\",\n        \"num_unique_values\": 2111,\n        \"samples\": [\n          \"3100\",\n          \"1814\",\n          \"1160 - 1195\"\n        ],\n        \"semantic_type\": \"\",\n        \"description\": \"\"\n      }\n    },\n    {\n      \"column\": \"sqft\",\n      \"properties\": {\n        \"dtype\": \"number\",\n        \"std\": 14278.686969614935,\n        \"min\": 45.0,\n        \"max\": 1306800.0,\n        \"num_unique_values\": 1964,\n        \"samples\": [\n          2257.0,\n          5400.0,\n          845.0\n        ],\n        \"semantic_type\": \"\",\n        \"description\": \"\"\n      }\n    },\n    {\n      \"column\": \"bath\",\n      \"properties\": {\n        \"dtype\": \"number\",\n        \"std\": 1.3399042810843076,\n        \"min\": 1.0,\n        \"max\": 40.0,\n        \"num_unique_values\": 19,\n        \"samples\": [\n          2.0,\n          1.0,\n          14.0\n        ],\n        \"semantic_type\": \"\",\n        \"description\": \"\"\n      }\n    },\n    {\n      \"column\": \"balcony\",\n      \"properties\": {\n        \"dtype\": \"number\",\n        \"std\": 0.8171981248480781,\n        \"min\": 0.0,\n        \"max\": 3.0,\n        \"num_unique_values\": 4,\n        \"samples\": [\n          3.0,\n          0.0,\n          1.0\n        ],\n        \"semantic_type\": \"\",\n        \"description\": \"\"\n      }\n    },\n    {\n      \"column\": \"possession date\",\n      \"properties\": {\n        \"dtype\": \"category\",\n        \"num_unique_values\": 1430,\n        \"samples\": [\n          \"44996\",\n          \"43897\",\n          \"44341\"\n        ],\n        \"semantic_type\": \"\",\n        \"description\": \"\"\n      }\n    },\n    {\n      \"column\": \"price\",\n      \"properties\": {\n        \"dtype\": \"number\",\n        \"std\": 148.99842584713295,\n        \"min\": 8.0,\n        \"max\": 3600.0,\n        \"num_unique_values\": 1994,\n        \"samples\": [\n          93.25,\n          33.645,\n          265.0\n        ],\n        \"semantic_type\": \"\",\n        \"description\": \"\"\n      }\n    }\n  ]\n}"
            }
          },
          "metadata": {},
          "execution_count": 79
        }
      ]
    },
    {
      "cell_type": "code",
      "source": [
        "df.info()"
      ],
      "metadata": {
        "colab": {
          "base_uri": "https://localhost:8080/"
        },
        "id": "Cjr7s_9vKPWv",
        "outputId": "1f345430-2c5e-4acb-c053-f3e493abc3b0"
      },
      "execution_count": 80,
      "outputs": [
        {
          "output_type": "stream",
          "name": "stdout",
          "text": [
            "<class 'pandas.core.frame.DataFrame'>\n",
            "RangeIndex: 13314 entries, 0 to 13313\n",
            "Data columns (total 10 columns):\n",
            " #   Column           Non-Null Count  Dtype  \n",
            "---  ------           --------------  -----  \n",
            " 0   area_type        13314 non-null  object \n",
            " 1   location         13314 non-null  object \n",
            " 2   society          7817 non-null   object \n",
            " 3   size             13298 non-null  object \n",
            " 4   total_sqft       13314 non-null  object \n",
            " 5   sqft             13314 non-null  float64\n",
            " 6   bath             13241 non-null  float64\n",
            " 7   balcony          12706 non-null  float64\n",
            " 8   possession date  13314 non-null  object \n",
            " 9   price            13314 non-null  float64\n",
            "dtypes: float64(4), object(6)\n",
            "memory usage: 1.0+ MB\n"
          ]
        }
      ]
    },
    {
      "cell_type": "code",
      "source": [
        "print(df.columns)"
      ],
      "metadata": {
        "colab": {
          "base_uri": "https://localhost:8080/"
        },
        "id": "niSYQ6K1KSQo",
        "outputId": "c031b998-e11a-4f5c-c97d-3484a9f614b4"
      },
      "execution_count": 81,
      "outputs": [
        {
          "output_type": "stream",
          "name": "stdout",
          "text": [
            "Index(['area_type', 'location', 'society', 'size', 'total_sqft', 'sqft',\n",
            "       'bath', 'balcony', 'possession date', 'price'],\n",
            "      dtype='object')\n"
          ]
        }
      ]
    },
    {
      "cell_type": "code",
      "source": [
        "df.describe()"
      ],
      "metadata": {
        "colab": {
          "base_uri": "https://localhost:8080/",
          "height": 300
        },
        "id": "x5BcYx41KUO9",
        "outputId": "603e826d-3685-4589-d997-800e0c974b61"
      },
      "execution_count": 82,
      "outputs": [
        {
          "output_type": "execute_result",
          "data": {
            "text/plain": [
              "               sqft          bath       balcony         price\n",
              "count  1.331400e+04  13241.000000  12706.000000  13314.000000\n",
              "mean   1.817241e+03      2.691564      1.584133    112.545076\n",
              "std    1.427869e+04      1.339904      0.817198    148.998426\n",
              "min    4.500000e+01      1.000000      0.000000      8.000000\n",
              "25%    1.100000e+03      2.000000      1.000000     50.000000\n",
              "50%    1.277000e+03      2.000000      2.000000     72.000000\n",
              "75%    1.680000e+03      3.000000      2.000000    120.000000\n",
              "max    1.306800e+06     40.000000      3.000000   3600.000000"
            ],
            "text/html": [
              "\n",
              "  <div id=\"df-da7bdb46-d04d-47b5-accd-2759d0746390\" class=\"colab-df-container\">\n",
              "    <div>\n",
              "<style scoped>\n",
              "    .dataframe tbody tr th:only-of-type {\n",
              "        vertical-align: middle;\n",
              "    }\n",
              "\n",
              "    .dataframe tbody tr th {\n",
              "        vertical-align: top;\n",
              "    }\n",
              "\n",
              "    .dataframe thead th {\n",
              "        text-align: right;\n",
              "    }\n",
              "</style>\n",
              "<table border=\"1\" class=\"dataframe\">\n",
              "  <thead>\n",
              "    <tr style=\"text-align: right;\">\n",
              "      <th></th>\n",
              "      <th>sqft</th>\n",
              "      <th>bath</th>\n",
              "      <th>balcony</th>\n",
              "      <th>price</th>\n",
              "    </tr>\n",
              "  </thead>\n",
              "  <tbody>\n",
              "    <tr>\n",
              "      <th>count</th>\n",
              "      <td>1.331400e+04</td>\n",
              "      <td>13241.000000</td>\n",
              "      <td>12706.000000</td>\n",
              "      <td>13314.000000</td>\n",
              "    </tr>\n",
              "    <tr>\n",
              "      <th>mean</th>\n",
              "      <td>1.817241e+03</td>\n",
              "      <td>2.691564</td>\n",
              "      <td>1.584133</td>\n",
              "      <td>112.545076</td>\n",
              "    </tr>\n",
              "    <tr>\n",
              "      <th>std</th>\n",
              "      <td>1.427869e+04</td>\n",
              "      <td>1.339904</td>\n",
              "      <td>0.817198</td>\n",
              "      <td>148.998426</td>\n",
              "    </tr>\n",
              "    <tr>\n",
              "      <th>min</th>\n",
              "      <td>4.500000e+01</td>\n",
              "      <td>1.000000</td>\n",
              "      <td>0.000000</td>\n",
              "      <td>8.000000</td>\n",
              "    </tr>\n",
              "    <tr>\n",
              "      <th>25%</th>\n",
              "      <td>1.100000e+03</td>\n",
              "      <td>2.000000</td>\n",
              "      <td>1.000000</td>\n",
              "      <td>50.000000</td>\n",
              "    </tr>\n",
              "    <tr>\n",
              "      <th>50%</th>\n",
              "      <td>1.277000e+03</td>\n",
              "      <td>2.000000</td>\n",
              "      <td>2.000000</td>\n",
              "      <td>72.000000</td>\n",
              "    </tr>\n",
              "    <tr>\n",
              "      <th>75%</th>\n",
              "      <td>1.680000e+03</td>\n",
              "      <td>3.000000</td>\n",
              "      <td>2.000000</td>\n",
              "      <td>120.000000</td>\n",
              "    </tr>\n",
              "    <tr>\n",
              "      <th>max</th>\n",
              "      <td>1.306800e+06</td>\n",
              "      <td>40.000000</td>\n",
              "      <td>3.000000</td>\n",
              "      <td>3600.000000</td>\n",
              "    </tr>\n",
              "  </tbody>\n",
              "</table>\n",
              "</div>\n",
              "    <div class=\"colab-df-buttons\">\n",
              "\n",
              "  <div class=\"colab-df-container\">\n",
              "    <button class=\"colab-df-convert\" onclick=\"convertToInteractive('df-da7bdb46-d04d-47b5-accd-2759d0746390')\"\n",
              "            title=\"Convert this dataframe to an interactive table.\"\n",
              "            style=\"display:none;\">\n",
              "\n",
              "  <svg xmlns=\"http://www.w3.org/2000/svg\" height=\"24px\" viewBox=\"0 -960 960 960\">\n",
              "    <path d=\"M120-120v-720h720v720H120Zm60-500h600v-160H180v160Zm220 220h160v-160H400v160Zm0 220h160v-160H400v160ZM180-400h160v-160H180v160Zm440 0h160v-160H620v160ZM180-180h160v-160H180v160Zm440 0h160v-160H620v160Z\"/>\n",
              "  </svg>\n",
              "    </button>\n",
              "\n",
              "  <style>\n",
              "    .colab-df-container {\n",
              "      display:flex;\n",
              "      gap: 12px;\n",
              "    }\n",
              "\n",
              "    .colab-df-convert {\n",
              "      background-color: #E8F0FE;\n",
              "      border: none;\n",
              "      border-radius: 50%;\n",
              "      cursor: pointer;\n",
              "      display: none;\n",
              "      fill: #1967D2;\n",
              "      height: 32px;\n",
              "      padding: 0 0 0 0;\n",
              "      width: 32px;\n",
              "    }\n",
              "\n",
              "    .colab-df-convert:hover {\n",
              "      background-color: #E2EBFA;\n",
              "      box-shadow: 0px 1px 2px rgba(60, 64, 67, 0.3), 0px 1px 3px 1px rgba(60, 64, 67, 0.15);\n",
              "      fill: #174EA6;\n",
              "    }\n",
              "\n",
              "    .colab-df-buttons div {\n",
              "      margin-bottom: 4px;\n",
              "    }\n",
              "\n",
              "    [theme=dark] .colab-df-convert {\n",
              "      background-color: #3B4455;\n",
              "      fill: #D2E3FC;\n",
              "    }\n",
              "\n",
              "    [theme=dark] .colab-df-convert:hover {\n",
              "      background-color: #434B5C;\n",
              "      box-shadow: 0px 1px 3px 1px rgba(0, 0, 0, 0.15);\n",
              "      filter: drop-shadow(0px 1px 2px rgba(0, 0, 0, 0.3));\n",
              "      fill: #FFFFFF;\n",
              "    }\n",
              "  </style>\n",
              "\n",
              "    <script>\n",
              "      const buttonEl =\n",
              "        document.querySelector('#df-da7bdb46-d04d-47b5-accd-2759d0746390 button.colab-df-convert');\n",
              "      buttonEl.style.display =\n",
              "        google.colab.kernel.accessAllowed ? 'block' : 'none';\n",
              "\n",
              "      async function convertToInteractive(key) {\n",
              "        const element = document.querySelector('#df-da7bdb46-d04d-47b5-accd-2759d0746390');\n",
              "        const dataTable =\n",
              "          await google.colab.kernel.invokeFunction('convertToInteractive',\n",
              "                                                    [key], {});\n",
              "        if (!dataTable) return;\n",
              "\n",
              "        const docLinkHtml = 'Like what you see? Visit the ' +\n",
              "          '<a target=\"_blank\" href=https://colab.research.google.com/notebooks/data_table.ipynb>data table notebook</a>'\n",
              "          + ' to learn more about interactive tables.';\n",
              "        element.innerHTML = '';\n",
              "        dataTable['output_type'] = 'display_data';\n",
              "        await google.colab.output.renderOutput(dataTable, element);\n",
              "        const docLink = document.createElement('div');\n",
              "        docLink.innerHTML = docLinkHtml;\n",
              "        element.appendChild(docLink);\n",
              "      }\n",
              "    </script>\n",
              "  </div>\n",
              "\n",
              "\n",
              "<div id=\"df-4745f451-d11a-4158-8d67-73d0caf3ba7d\">\n",
              "  <button class=\"colab-df-quickchart\" onclick=\"quickchart('df-4745f451-d11a-4158-8d67-73d0caf3ba7d')\"\n",
              "            title=\"Suggest charts\"\n",
              "            style=\"display:none;\">\n",
              "\n",
              "<svg xmlns=\"http://www.w3.org/2000/svg\" height=\"24px\"viewBox=\"0 0 24 24\"\n",
              "     width=\"24px\">\n",
              "    <g>\n",
              "        <path d=\"M19 3H5c-1.1 0-2 .9-2 2v14c0 1.1.9 2 2 2h14c1.1 0 2-.9 2-2V5c0-1.1-.9-2-2-2zM9 17H7v-7h2v7zm4 0h-2V7h2v10zm4 0h-2v-4h2v4z\"/>\n",
              "    </g>\n",
              "</svg>\n",
              "  </button>\n",
              "\n",
              "<style>\n",
              "  .colab-df-quickchart {\n",
              "      --bg-color: #E8F0FE;\n",
              "      --fill-color: #1967D2;\n",
              "      --hover-bg-color: #E2EBFA;\n",
              "      --hover-fill-color: #174EA6;\n",
              "      --disabled-fill-color: #AAA;\n",
              "      --disabled-bg-color: #DDD;\n",
              "  }\n",
              "\n",
              "  [theme=dark] .colab-df-quickchart {\n",
              "      --bg-color: #3B4455;\n",
              "      --fill-color: #D2E3FC;\n",
              "      --hover-bg-color: #434B5C;\n",
              "      --hover-fill-color: #FFFFFF;\n",
              "      --disabled-bg-color: #3B4455;\n",
              "      --disabled-fill-color: #666;\n",
              "  }\n",
              "\n",
              "  .colab-df-quickchart {\n",
              "    background-color: var(--bg-color);\n",
              "    border: none;\n",
              "    border-radius: 50%;\n",
              "    cursor: pointer;\n",
              "    display: none;\n",
              "    fill: var(--fill-color);\n",
              "    height: 32px;\n",
              "    padding: 0;\n",
              "    width: 32px;\n",
              "  }\n",
              "\n",
              "  .colab-df-quickchart:hover {\n",
              "    background-color: var(--hover-bg-color);\n",
              "    box-shadow: 0 1px 2px rgba(60, 64, 67, 0.3), 0 1px 3px 1px rgba(60, 64, 67, 0.15);\n",
              "    fill: var(--button-hover-fill-color);\n",
              "  }\n",
              "\n",
              "  .colab-df-quickchart-complete:disabled,\n",
              "  .colab-df-quickchart-complete:disabled:hover {\n",
              "    background-color: var(--disabled-bg-color);\n",
              "    fill: var(--disabled-fill-color);\n",
              "    box-shadow: none;\n",
              "  }\n",
              "\n",
              "  .colab-df-spinner {\n",
              "    border: 2px solid var(--fill-color);\n",
              "    border-color: transparent;\n",
              "    border-bottom-color: var(--fill-color);\n",
              "    animation:\n",
              "      spin 1s steps(1) infinite;\n",
              "  }\n",
              "\n",
              "  @keyframes spin {\n",
              "    0% {\n",
              "      border-color: transparent;\n",
              "      border-bottom-color: var(--fill-color);\n",
              "      border-left-color: var(--fill-color);\n",
              "    }\n",
              "    20% {\n",
              "      border-color: transparent;\n",
              "      border-left-color: var(--fill-color);\n",
              "      border-top-color: var(--fill-color);\n",
              "    }\n",
              "    30% {\n",
              "      border-color: transparent;\n",
              "      border-left-color: var(--fill-color);\n",
              "      border-top-color: var(--fill-color);\n",
              "      border-right-color: var(--fill-color);\n",
              "    }\n",
              "    40% {\n",
              "      border-color: transparent;\n",
              "      border-right-color: var(--fill-color);\n",
              "      border-top-color: var(--fill-color);\n",
              "    }\n",
              "    60% {\n",
              "      border-color: transparent;\n",
              "      border-right-color: var(--fill-color);\n",
              "    }\n",
              "    80% {\n",
              "      border-color: transparent;\n",
              "      border-right-color: var(--fill-color);\n",
              "      border-bottom-color: var(--fill-color);\n",
              "    }\n",
              "    90% {\n",
              "      border-color: transparent;\n",
              "      border-bottom-color: var(--fill-color);\n",
              "    }\n",
              "  }\n",
              "</style>\n",
              "\n",
              "  <script>\n",
              "    async function quickchart(key) {\n",
              "      const quickchartButtonEl =\n",
              "        document.querySelector('#' + key + ' button');\n",
              "      quickchartButtonEl.disabled = true;  // To prevent multiple clicks.\n",
              "      quickchartButtonEl.classList.add('colab-df-spinner');\n",
              "      try {\n",
              "        const charts = await google.colab.kernel.invokeFunction(\n",
              "            'suggestCharts', [key], {});\n",
              "      } catch (error) {\n",
              "        console.error('Error during call to suggestCharts:', error);\n",
              "      }\n",
              "      quickchartButtonEl.classList.remove('colab-df-spinner');\n",
              "      quickchartButtonEl.classList.add('colab-df-quickchart-complete');\n",
              "    }\n",
              "    (() => {\n",
              "      let quickchartButtonEl =\n",
              "        document.querySelector('#df-4745f451-d11a-4158-8d67-73d0caf3ba7d button');\n",
              "      quickchartButtonEl.style.display =\n",
              "        google.colab.kernel.accessAllowed ? 'block' : 'none';\n",
              "    })();\n",
              "  </script>\n",
              "</div>\n",
              "\n",
              "    </div>\n",
              "  </div>\n"
            ],
            "application/vnd.google.colaboratory.intrinsic+json": {
              "type": "dataframe",
              "summary": "{\n  \"name\": \"df\",\n  \"rows\": 8,\n  \"fields\": [\n    {\n      \"column\": \"sqft\",\n      \"properties\": {\n        \"dtype\": \"number\",\n        \"std\": 460366.59974636184,\n        \"min\": 45.0,\n        \"max\": 1306800.0,\n        \"num_unique_values\": 8,\n        \"samples\": [\n          1817.2405475439386,\n          1277.0,\n          13314.0\n        ],\n        \"semantic_type\": \"\",\n        \"description\": \"\"\n      }\n    },\n    {\n      \"column\": \"bath\",\n      \"properties\": {\n        \"dtype\": \"number\",\n        \"std\": 4678.791393656848,\n        \"min\": 1.0,\n        \"max\": 13241.0,\n        \"num_unique_values\": 7,\n        \"samples\": [\n          13241.0,\n          2.6915640812627446,\n          3.0\n        ],\n        \"semantic_type\": \"\",\n        \"description\": \"\"\n      }\n    },\n    {\n      \"column\": \"balcony\",\n      \"properties\": {\n        \"dtype\": \"number\",\n        \"std\": 4491.724125290002,\n        \"min\": 0.0,\n        \"max\": 12706.0,\n        \"num_unique_values\": 7,\n        \"samples\": [\n          12706.0,\n          1.5841334802455533,\n          2.0\n        ],\n        \"semantic_type\": \"\",\n        \"description\": \"\"\n      }\n    },\n    {\n      \"column\": \"price\",\n      \"properties\": {\n        \"dtype\": \"number\",\n        \"std\": 4664.813809363791,\n        \"min\": 8.0,\n        \"max\": 13314.0,\n        \"num_unique_values\": 8,\n        \"samples\": [\n          112.54507623554154,\n          72.0,\n          13314.0\n        ],\n        \"semantic_type\": \"\",\n        \"description\": \"\"\n      }\n    }\n  ]\n}"
            }
          },
          "metadata": {},
          "execution_count": 82
        }
      ]
    },
    {
      "cell_type": "code",
      "source": [
        "df.dtypes"
      ],
      "metadata": {
        "colab": {
          "base_uri": "https://localhost:8080/",
          "height": 398
        },
        "id": "-aIkiNweKVlB",
        "outputId": "6181cb74-1f9f-47f7-a41a-9293d7681c34"
      },
      "execution_count": 83,
      "outputs": [
        {
          "output_type": "execute_result",
          "data": {
            "text/plain": [
              "area_type           object\n",
              "location            object\n",
              "society             object\n",
              "size                object\n",
              "total_sqft          object\n",
              "sqft               float64\n",
              "bath               float64\n",
              "balcony            float64\n",
              "possession date     object\n",
              "price              float64\n",
              "dtype: object"
            ],
            "text/html": [
              "<table border=\"1\" class=\"dataframe\">\n",
              "  <thead>\n",
              "    <tr style=\"text-align: right;\">\n",
              "      <th></th>\n",
              "      <th>0</th>\n",
              "    </tr>\n",
              "  </thead>\n",
              "  <tbody>\n",
              "    <tr>\n",
              "      <th>area_type</th>\n",
              "      <td>object</td>\n",
              "    </tr>\n",
              "    <tr>\n",
              "      <th>location</th>\n",
              "      <td>object</td>\n",
              "    </tr>\n",
              "    <tr>\n",
              "      <th>society</th>\n",
              "      <td>object</td>\n",
              "    </tr>\n",
              "    <tr>\n",
              "      <th>size</th>\n",
              "      <td>object</td>\n",
              "    </tr>\n",
              "    <tr>\n",
              "      <th>total_sqft</th>\n",
              "      <td>object</td>\n",
              "    </tr>\n",
              "    <tr>\n",
              "      <th>sqft</th>\n",
              "      <td>float64</td>\n",
              "    </tr>\n",
              "    <tr>\n",
              "      <th>bath</th>\n",
              "      <td>float64</td>\n",
              "    </tr>\n",
              "    <tr>\n",
              "      <th>balcony</th>\n",
              "      <td>float64</td>\n",
              "    </tr>\n",
              "    <tr>\n",
              "      <th>possession date</th>\n",
              "      <td>object</td>\n",
              "    </tr>\n",
              "    <tr>\n",
              "      <th>price</th>\n",
              "      <td>float64</td>\n",
              "    </tr>\n",
              "  </tbody>\n",
              "</table><br><label><b>dtype:</b> object</label>"
            ]
          },
          "metadata": {},
          "execution_count": 83
        }
      ]
    },
    {
      "cell_type": "code",
      "source": [
        "df.shape"
      ],
      "metadata": {
        "colab": {
          "base_uri": "https://localhost:8080/"
        },
        "id": "cGPuMswwKXBH",
        "outputId": "0db4813b-b982-47fc-cc5c-b58f5e4a8fd9"
      },
      "execution_count": 84,
      "outputs": [
        {
          "output_type": "execute_result",
          "data": {
            "text/plain": [
              "(13314, 10)"
            ]
          },
          "metadata": {},
          "execution_count": 84
        }
      ]
    },
    {
      "cell_type": "code",
      "source": [
        "df.isnull().sum()"
      ],
      "metadata": {
        "colab": {
          "base_uri": "https://localhost:8080/",
          "height": 398
        },
        "id": "8zjdC2FbKYbc",
        "outputId": "b0538101-aecc-4ad9-c543-dc754417e0b1"
      },
      "execution_count": 85,
      "outputs": [
        {
          "output_type": "execute_result",
          "data": {
            "text/plain": [
              "area_type             0\n",
              "location              0\n",
              "society            5497\n",
              "size                 16\n",
              "total_sqft            0\n",
              "sqft                  0\n",
              "bath                 73\n",
              "balcony             608\n",
              "possession date       0\n",
              "price                 0\n",
              "dtype: int64"
            ],
            "text/html": [
              "<table border=\"1\" class=\"dataframe\">\n",
              "  <thead>\n",
              "    <tr style=\"text-align: right;\">\n",
              "      <th></th>\n",
              "      <th>0</th>\n",
              "    </tr>\n",
              "  </thead>\n",
              "  <tbody>\n",
              "    <tr>\n",
              "      <th>area_type</th>\n",
              "      <td>0</td>\n",
              "    </tr>\n",
              "    <tr>\n",
              "      <th>location</th>\n",
              "      <td>0</td>\n",
              "    </tr>\n",
              "    <tr>\n",
              "      <th>society</th>\n",
              "      <td>5497</td>\n",
              "    </tr>\n",
              "    <tr>\n",
              "      <th>size</th>\n",
              "      <td>16</td>\n",
              "    </tr>\n",
              "    <tr>\n",
              "      <th>total_sqft</th>\n",
              "      <td>0</td>\n",
              "    </tr>\n",
              "    <tr>\n",
              "      <th>sqft</th>\n",
              "      <td>0</td>\n",
              "    </tr>\n",
              "    <tr>\n",
              "      <th>bath</th>\n",
              "      <td>73</td>\n",
              "    </tr>\n",
              "    <tr>\n",
              "      <th>balcony</th>\n",
              "      <td>608</td>\n",
              "    </tr>\n",
              "    <tr>\n",
              "      <th>possession date</th>\n",
              "      <td>0</td>\n",
              "    </tr>\n",
              "    <tr>\n",
              "      <th>price</th>\n",
              "      <td>0</td>\n",
              "    </tr>\n",
              "  </tbody>\n",
              "</table><br><label><b>dtype:</b> int64</label>"
            ]
          },
          "metadata": {},
          "execution_count": 85
        }
      ]
    },
    {
      "cell_type": "code",
      "source": [
        "df['area_type'].value_counts()"
      ],
      "metadata": {
        "colab": {
          "base_uri": "https://localhost:8080/",
          "height": 241
        },
        "id": "KggMvek9KafI",
        "outputId": "86db017a-27dd-4925-f37b-c2a3e7b29f95"
      },
      "execution_count": 86,
      "outputs": [
        {
          "output_type": "execute_result",
          "data": {
            "text/plain": [
              "area_type\n",
              "Super built-up  Area    8789\n",
              "Built-up  Area          2414\n",
              "Plot  Area              2024\n",
              "Carpet  Area              87\n",
              "Name: count, dtype: int64"
            ],
            "text/html": [
              "<table border=\"1\" class=\"dataframe\">\n",
              "  <thead>\n",
              "    <tr style=\"text-align: right;\">\n",
              "      <th></th>\n",
              "      <th>count</th>\n",
              "    </tr>\n",
              "    <tr>\n",
              "      <th>area_type</th>\n",
              "      <th></th>\n",
              "    </tr>\n",
              "  </thead>\n",
              "  <tbody>\n",
              "    <tr>\n",
              "      <th>Super built-up  Area</th>\n",
              "      <td>8789</td>\n",
              "    </tr>\n",
              "    <tr>\n",
              "      <th>Built-up  Area</th>\n",
              "      <td>2414</td>\n",
              "    </tr>\n",
              "    <tr>\n",
              "      <th>Plot  Area</th>\n",
              "      <td>2024</td>\n",
              "    </tr>\n",
              "    <tr>\n",
              "      <th>Carpet  Area</th>\n",
              "      <td>87</td>\n",
              "    </tr>\n",
              "  </tbody>\n",
              "</table><br><label><b>dtype:</b> int64</label>"
            ]
          },
          "metadata": {},
          "execution_count": 86
        }
      ]
    },
    {
      "cell_type": "code",
      "source": [
        "df['location'].value_counts().head()"
      ],
      "metadata": {
        "colab": {
          "base_uri": "https://localhost:8080/",
          "height": 272
        },
        "id": "Rx6EkHFCKh8J",
        "outputId": "c11c1cc5-3b84-4447-fadd-a5893732dbab"
      },
      "execution_count": 87,
      "outputs": [
        {
          "output_type": "execute_result",
          "data": {
            "text/plain": [
              "location\n",
              "Whitefield         540\n",
              "Sarjapur  Road     399\n",
              "Electronic City    302\n",
              "Kanakpura Road     273\n",
              "Thanisandra        234\n",
              "Name: count, dtype: int64"
            ],
            "text/html": [
              "<table border=\"1\" class=\"dataframe\">\n",
              "  <thead>\n",
              "    <tr style=\"text-align: right;\">\n",
              "      <th></th>\n",
              "      <th>count</th>\n",
              "    </tr>\n",
              "    <tr>\n",
              "      <th>location</th>\n",
              "      <th></th>\n",
              "    </tr>\n",
              "  </thead>\n",
              "  <tbody>\n",
              "    <tr>\n",
              "      <th>Whitefield</th>\n",
              "      <td>540</td>\n",
              "    </tr>\n",
              "    <tr>\n",
              "      <th>Sarjapur  Road</th>\n",
              "      <td>399</td>\n",
              "    </tr>\n",
              "    <tr>\n",
              "      <th>Electronic City</th>\n",
              "      <td>302</td>\n",
              "    </tr>\n",
              "    <tr>\n",
              "      <th>Kanakpura Road</th>\n",
              "      <td>273</td>\n",
              "    </tr>\n",
              "    <tr>\n",
              "      <th>Thanisandra</th>\n",
              "      <td>234</td>\n",
              "    </tr>\n",
              "  </tbody>\n",
              "</table><br><label><b>dtype:</b> int64</label>"
            ]
          },
          "metadata": {},
          "execution_count": 87
        }
      ]
    },
    {
      "cell_type": "code",
      "source": [
        "df['society'].value_counts().head()"
      ],
      "metadata": {
        "colab": {
          "base_uri": "https://localhost:8080/",
          "height": 272
        },
        "id": "ymQzGfLqKjkL",
        "outputId": "69cbb0d7-fe88-4c0f-a75a-a0a09d1df2ce"
      },
      "execution_count": 88,
      "outputs": [
        {
          "output_type": "execute_result",
          "data": {
            "text/plain": [
              "society\n",
              "GrrvaGr    80\n",
              "PrarePa    76\n",
              "Prtates    59\n",
              "Sryalan    59\n",
              "GMown E    56\n",
              "Name: count, dtype: int64"
            ],
            "text/html": [
              "<table border=\"1\" class=\"dataframe\">\n",
              "  <thead>\n",
              "    <tr style=\"text-align: right;\">\n",
              "      <th></th>\n",
              "      <th>count</th>\n",
              "    </tr>\n",
              "    <tr>\n",
              "      <th>society</th>\n",
              "      <th></th>\n",
              "    </tr>\n",
              "  </thead>\n",
              "  <tbody>\n",
              "    <tr>\n",
              "      <th>GrrvaGr</th>\n",
              "      <td>80</td>\n",
              "    </tr>\n",
              "    <tr>\n",
              "      <th>PrarePa</th>\n",
              "      <td>76</td>\n",
              "    </tr>\n",
              "    <tr>\n",
              "      <th>Prtates</th>\n",
              "      <td>59</td>\n",
              "    </tr>\n",
              "    <tr>\n",
              "      <th>Sryalan</th>\n",
              "      <td>59</td>\n",
              "    </tr>\n",
              "    <tr>\n",
              "      <th>GMown E</th>\n",
              "      <td>56</td>\n",
              "    </tr>\n",
              "  </tbody>\n",
              "</table><br><label><b>dtype:</b> int64</label>"
            ]
          },
          "metadata": {},
          "execution_count": 88
        }
      ]
    },
    {
      "cell_type": "code",
      "source": [
        "df['size'].value_counts()"
      ],
      "metadata": {
        "colab": {
          "base_uri": "https://localhost:8080/",
          "height": 1000
        },
        "id": "1Xb996BDKzEP",
        "outputId": "5ceafda2-8b45-4d24-ca65-357f5384ccca"
      },
      "execution_count": 89,
      "outputs": [
        {
          "output_type": "execute_result",
          "data": {
            "text/plain": [
              "size\n",
              "2 BHK         5199\n",
              "3 BHK         4309\n",
              "4 Bedroom      826\n",
              "4 BHK          590\n",
              "3 Bedroom      547\n",
              "1 BHK          538\n",
              "2 Bedroom      329\n",
              "5 Bedroom      295\n",
              "6 Bedroom      191\n",
              "1 Bedroom      105\n",
              "8 Bedroom       84\n",
              "7 Bedroom       83\n",
              "5 BHK           59\n",
              "9 Bedroom       45\n",
              "6 BHK           30\n",
              "7 BHK           16\n",
              "1 RK            13\n",
              "10 Bedroom      12\n",
              "9 BHK            8\n",
              "8 BHK            5\n",
              "11 BHK           2\n",
              "11 Bedroom       2\n",
              "10 BHK           2\n",
              "14 BHK           1\n",
              "13 BHK           1\n",
              "12 Bedroom       1\n",
              "27 BHK           1\n",
              "43 Bedroom       1\n",
              "16 BHK           1\n",
              "19 BHK           1\n",
              "18 Bedroom       1\n",
              "Name: count, dtype: int64"
            ],
            "text/html": [
              "<table border=\"1\" class=\"dataframe\">\n",
              "  <thead>\n",
              "    <tr style=\"text-align: right;\">\n",
              "      <th></th>\n",
              "      <th>count</th>\n",
              "    </tr>\n",
              "    <tr>\n",
              "      <th>size</th>\n",
              "      <th></th>\n",
              "    </tr>\n",
              "  </thead>\n",
              "  <tbody>\n",
              "    <tr>\n",
              "      <th>2 BHK</th>\n",
              "      <td>5199</td>\n",
              "    </tr>\n",
              "    <tr>\n",
              "      <th>3 BHK</th>\n",
              "      <td>4309</td>\n",
              "    </tr>\n",
              "    <tr>\n",
              "      <th>4 Bedroom</th>\n",
              "      <td>826</td>\n",
              "    </tr>\n",
              "    <tr>\n",
              "      <th>4 BHK</th>\n",
              "      <td>590</td>\n",
              "    </tr>\n",
              "    <tr>\n",
              "      <th>3 Bedroom</th>\n",
              "      <td>547</td>\n",
              "    </tr>\n",
              "    <tr>\n",
              "      <th>1 BHK</th>\n",
              "      <td>538</td>\n",
              "    </tr>\n",
              "    <tr>\n",
              "      <th>2 Bedroom</th>\n",
              "      <td>329</td>\n",
              "    </tr>\n",
              "    <tr>\n",
              "      <th>5 Bedroom</th>\n",
              "      <td>295</td>\n",
              "    </tr>\n",
              "    <tr>\n",
              "      <th>6 Bedroom</th>\n",
              "      <td>191</td>\n",
              "    </tr>\n",
              "    <tr>\n",
              "      <th>1 Bedroom</th>\n",
              "      <td>105</td>\n",
              "    </tr>\n",
              "    <tr>\n",
              "      <th>8 Bedroom</th>\n",
              "      <td>84</td>\n",
              "    </tr>\n",
              "    <tr>\n",
              "      <th>7 Bedroom</th>\n",
              "      <td>83</td>\n",
              "    </tr>\n",
              "    <tr>\n",
              "      <th>5 BHK</th>\n",
              "      <td>59</td>\n",
              "    </tr>\n",
              "    <tr>\n",
              "      <th>9 Bedroom</th>\n",
              "      <td>45</td>\n",
              "    </tr>\n",
              "    <tr>\n",
              "      <th>6 BHK</th>\n",
              "      <td>30</td>\n",
              "    </tr>\n",
              "    <tr>\n",
              "      <th>7 BHK</th>\n",
              "      <td>16</td>\n",
              "    </tr>\n",
              "    <tr>\n",
              "      <th>1 RK</th>\n",
              "      <td>13</td>\n",
              "    </tr>\n",
              "    <tr>\n",
              "      <th>10 Bedroom</th>\n",
              "      <td>12</td>\n",
              "    </tr>\n",
              "    <tr>\n",
              "      <th>9 BHK</th>\n",
              "      <td>8</td>\n",
              "    </tr>\n",
              "    <tr>\n",
              "      <th>8 BHK</th>\n",
              "      <td>5</td>\n",
              "    </tr>\n",
              "    <tr>\n",
              "      <th>11 BHK</th>\n",
              "      <td>2</td>\n",
              "    </tr>\n",
              "    <tr>\n",
              "      <th>11 Bedroom</th>\n",
              "      <td>2</td>\n",
              "    </tr>\n",
              "    <tr>\n",
              "      <th>10 BHK</th>\n",
              "      <td>2</td>\n",
              "    </tr>\n",
              "    <tr>\n",
              "      <th>14 BHK</th>\n",
              "      <td>1</td>\n",
              "    </tr>\n",
              "    <tr>\n",
              "      <th>13 BHK</th>\n",
              "      <td>1</td>\n",
              "    </tr>\n",
              "    <tr>\n",
              "      <th>12 Bedroom</th>\n",
              "      <td>1</td>\n",
              "    </tr>\n",
              "    <tr>\n",
              "      <th>27 BHK</th>\n",
              "      <td>1</td>\n",
              "    </tr>\n",
              "    <tr>\n",
              "      <th>43 Bedroom</th>\n",
              "      <td>1</td>\n",
              "    </tr>\n",
              "    <tr>\n",
              "      <th>16 BHK</th>\n",
              "      <td>1</td>\n",
              "    </tr>\n",
              "    <tr>\n",
              "      <th>19 BHK</th>\n",
              "      <td>1</td>\n",
              "    </tr>\n",
              "    <tr>\n",
              "      <th>18 Bedroom</th>\n",
              "      <td>1</td>\n",
              "    </tr>\n",
              "  </tbody>\n",
              "</table><br><label><b>dtype:</b> int64</label>"
            ]
          },
          "metadata": {},
          "execution_count": 89
        }
      ]
    },
    {
      "cell_type": "code",
      "source": [
        "df['possession date'].value_counts().head()"
      ],
      "metadata": {
        "colab": {
          "base_uri": "https://localhost:8080/",
          "height": 272
        },
        "id": "ec-Yp9-9K4i7",
        "outputId": "bd3aebf7-48dc-4a77-a2e8-66eb6c426cd5"
      },
      "execution_count": 90,
      "outputs": [
        {
          "output_type": "execute_result",
          "data": {
            "text/plain": [
              "possession date\n",
              "Ready to move    10591\n",
              "44158                6\n",
              "43562                6\n",
              "44154                6\n",
              "44294                6\n",
              "Name: count, dtype: int64"
            ],
            "text/html": [
              "<table border=\"1\" class=\"dataframe\">\n",
              "  <thead>\n",
              "    <tr style=\"text-align: right;\">\n",
              "      <th></th>\n",
              "      <th>count</th>\n",
              "    </tr>\n",
              "    <tr>\n",
              "      <th>possession date</th>\n",
              "      <th></th>\n",
              "    </tr>\n",
              "  </thead>\n",
              "  <tbody>\n",
              "    <tr>\n",
              "      <th>Ready to move</th>\n",
              "      <td>10591</td>\n",
              "    </tr>\n",
              "    <tr>\n",
              "      <th>44158</th>\n",
              "      <td>6</td>\n",
              "    </tr>\n",
              "    <tr>\n",
              "      <th>43562</th>\n",
              "      <td>6</td>\n",
              "    </tr>\n",
              "    <tr>\n",
              "      <th>44154</th>\n",
              "      <td>6</td>\n",
              "    </tr>\n",
              "    <tr>\n",
              "      <th>44294</th>\n",
              "      <td>6</td>\n",
              "    </tr>\n",
              "  </tbody>\n",
              "</table><br><label><b>dtype:</b> int64</label>"
            ]
          },
          "metadata": {},
          "execution_count": 90
        }
      ]
    },
    {
      "cell_type": "markdown",
      "source": [
        "# Data Visualization"
      ],
      "metadata": {
        "id": "f3hxmomULCl8"
      }
    },
    {
      "cell_type": "code",
      "source": [
        "plt.figure(figsize=(10, 6))\n",
        "plt.hist(df['price'], bins=30, color='skyblue', edgecolor='black')\n",
        "plt.title('Distribution of Price')\n",
        "plt.xlabel('Price')\n",
        "plt.ylabel('Frequency')\n",
        "plt.grid(True)\n",
        "plt.show()"
      ],
      "metadata": {
        "colab": {
          "base_uri": "https://localhost:8080/",
          "height": 564
        },
        "id": "ewhPMxQ_K7fq",
        "outputId": "7c725369-17c5-42c9-ab49-c0af666d826c"
      },
      "execution_count": 91,
      "outputs": [
        {
          "output_type": "display_data",
          "data": {
            "text/plain": [
              "<Figure size 1000x600 with 1 Axes>"
            ],
            "image/png": "[encoded data removed]"
          },
          "metadata": {}
        }
      ]
    },
    {
      "cell_type": "code",
      "source": [
        "plt.figure(figsize=(10, 6))\n",
        "sns.boxplot(x='area_type', y='price', data=df)\n",
        "plt.title('Price Distribution by Area Type')\n",
        "plt.xlabel('Area Type')\n",
        "plt.ylabel('Price')\n",
        "plt.xticks(rotation=45)\n",
        "plt.grid(True)\n",
        "plt.show()"
      ],
      "metadata": {
        "colab": {
          "base_uri": "https://localhost:8080/",
          "height": 658
        },
        "id": "F4B7l5_mLHEo",
        "outputId": "cd5b26e5-39bc-40e7-e248-be9bbf2504b5"
      },
      "execution_count": 92,
      "outputs": [
        {
          "output_type": "display_data",
          "data": {
            "text/plain": [
              "<Figure size 1000x600 with 1 Axes>"
            ],
            "image/png": "[encoded data removed]"
          },
          "metadata": {}
        }
      ]
    },
    {
      "cell_type": "code",
      "source": [
        "sns.pairplot(df[['total_sqft', 'bath', 'balcony', 'price']])\n",
        "plt.show()"
      ],
      "metadata": {
        "colab": {
          "base_uri": "https://localhost:8080/",
          "height": 758
        },
        "id": "N1okFXubLJSm",
        "outputId": "59c4a9bf-35ef-4132-9f48-65c74f28d3da"
      },
      "execution_count": 93,
      "outputs": [
        {
          "output_type": "display_data",
          "data": {
            "text/plain": [
              "<Figure size 750x750 with 12 Axes>"
            ],
            "image/png": "[encoded data removed]"
          },
          "metadata": {}
        }
      ]
    },
    {
      "cell_type": "code",
      "source": [
        "# plt.figure(figsize=(10, 6))\n",
        "# sns.heatmap(df[['total_sqft', 'bath', 'balcony', 'price']].corr(), annot=True, cmap='coolwarm', fmt=\".2f\")\n",
        "# plt.title('Correlation Heatmap')\n",
        "# plt.show()\n",
        "\n",
        "# Check data types of the relevant columns\n",
        "print(df[['total_sqft', 'bath', 'balcony', 'price']].dtypes)\n",
        "\n",
        "# If 'total_sqft' is the problematic column, consider the following fix:\n",
        "# (Adjust the column name and conversion logic as needed)\n",
        "\n",
        "import pandas as pd\n",
        "\n",
        "def convert_sqft_range(value):\n",
        "    if '-' in value:\n",
        "        lower, upper = value.split('-')\n",
        "        return (float(lower) + float(upper)) / 2\n",
        "    try:\n",
        "        return float(value)\n",
        "    except:\n",
        "        return None\n",
        "\n",
        "df['total_sqft'] = df['total_sqft'].apply(convert_sqft_range)\n",
        "\n",
        "# Drop rows with missing values after conversion (if any)\n",
        "df.dropna(subset=['total_sqft'], inplace=True)\n",
        "\n",
        "\n",
        "plt.figure(figsize=(10, 6))\n",
        "sns.heatmap(df[['total_sqft', 'bath', 'balcony', 'price']].corr(), annot=True, cmap='coolwarm', fmt=\".2f\")\n",
        "plt.title('Correlation Heatmap')\n",
        "plt.show()"
      ],
      "metadata": {
        "colab": {
          "base_uri": "https://localhost:8080/",
          "height": 632
        },
        "id": "9byzWgyPLMBT",
        "outputId": "4a919ac0-6460-4d80-8894-abf484d828ba"
      },
      "execution_count": 94,
      "outputs": [
        {
          "output_type": "stream",
          "name": "stdout",
          "text": [
            "total_sqft     object\n",
            "bath          float64\n",
            "balcony       float64\n",
            "price         float64\n",
            "dtype: object\n"
          ]
        },
        {
          "output_type": "display_data",
          "data": {
            "text/plain": [
              "<Figure size 1000x600 with 2 Axes>"
            ],
            "image/png": "[encoded data removed]"
          },
          "metadata": {}
        }
      ]
    },
    {
      "cell_type": "markdown",
      "source": [
        "# Data Preprocessing"
      ],
      "metadata": {
        "id": "3yELBqaQMAsn"
      }
    },
    {
      "cell_type": "code",
      "source": [
        "Q1 = df['price'].quantile(0.25)\n",
        "Q3 = df['price'].quantile(0.75)\n",
        "IQR = Q3 - Q1\n",
        "lower_bound = Q1 - 1.5 * IQR\n",
        "upper_bound = Q3 + 1.5 * IQR\n",
        "df = df[(df['price'] > lower_bound) & (df['price'] < upper_bound)]"
      ],
      "metadata": {
        "id": "eDOO9s9ZLN_W"
      },
      "execution_count": 95,
      "outputs": []
    },
    {
      "cell_type": "code",
      "source": [
        "plt.figure(figsize=(10, 6))\n",
        "plt.hist(df['price'], bins=30, color='skyblue', edgecolor='black')\n",
        "plt.title('Distribution of Price (After Removing Outliers)')\n",
        "plt.xlabel('Price')\n",
        "plt.ylabel('Frequency')\n",
        "plt.grid(True)\n",
        "plt.show()\n"
      ],
      "metadata": {
        "colab": {
          "base_uri": "https://localhost:8080/",
          "height": 564
        },
        "id": "INwT4d1NMLOM",
        "outputId": "f08e5ee1-b965-4070-e6c6-1de9d868c78f"
      },
      "execution_count": 96,
      "outputs": [
        {
          "output_type": "display_data",
          "data": {
            "text/plain": [
              "<Figure size 1000x600 with 1 Axes>"
            ],
            "image/png": "[encoded data removed]"
          },
          "metadata": {}
        }
      ]
    },
    {
      "cell_type": "code",
      "source": [
        "df.info()"
      ],
      "metadata": {
        "colab": {
          "base_uri": "https://localhost:8080/"
        },
        "id": "pjbK9PQAMM11",
        "outputId": "c058744f-7d7f-42df-c8d1-42eba00e176c"
      },
      "execution_count": 97,
      "outputs": [
        {
          "output_type": "stream",
          "name": "stdout",
          "text": [
            "<class 'pandas.core.frame.DataFrame'>\n",
            "Index: 11961 entries, 0 to 13313\n",
            "Data columns (total 10 columns):\n",
            " #   Column           Non-Null Count  Dtype  \n",
            "---  ------           --------------  -----  \n",
            " 0   area_type        11961 non-null  object \n",
            " 1   location         11961 non-null  object \n",
            " 2   society          7217 non-null   object \n",
            " 3   size             11947 non-null  object \n",
            " 4   total_sqft       11961 non-null  float64\n",
            " 5   sqft             11961 non-null  float64\n",
            " 6   bath             11905 non-null  float64\n",
            " 7   balcony          11581 non-null  float64\n",
            " 8   possession date  11961 non-null  object \n",
            " 9   price            11961 non-null  float64\n",
            "dtypes: float64(5), object(5)\n",
            "memory usage: 1.0+ MB\n"
          ]
        }
      ]
    },
    {
      "cell_type": "code",
      "source": [
        "plt.figure(figsize=(12, 6))\n",
        "plt.subplot(1, 3, 1)\n",
        "sns.boxplot(y='total_sqft', data=df)\n",
        "plt.title('Total Sqft')\n",
        "\n",
        "plt.subplot(1, 3, 2)\n",
        "sns.boxplot(y='bath', data=df)\n",
        "plt.title('Bath')\n",
        "\n",
        "plt.subplot(1, 3, 3)\n",
        "sns.boxplot(y='balcony', data=df)\n",
        "plt.title('Balcony')\n",
        "\n",
        "plt.tight_layout()\n",
        "plt.show()"
      ],
      "metadata": {
        "colab": {
          "base_uri": "https://localhost:8080/",
          "height": 607
        },
        "id": "N9F8nLrnMcF2",
        "outputId": "c06d36b0-d977-4346-9714-8a7cb179e768"
      },
      "execution_count": 98,
      "outputs": [
        {
          "output_type": "display_data",
          "data": {
            "text/plain": [
              "<Figure size 1200x600 with 3 Axes>"
            ],
            "image/png": "[encoded data removed]"
          },
          "metadata": {}
        }
      ]
    },
    {
      "cell_type": "code",
      "source": [
        "Q1_bath = df['bath'].quantile(0.25)\n",
        "Q3_bath = df['bath'].quantile(0.75)\n",
        "IQR_bath = Q3_bath - Q1_bath\n",
        "lower_bound_bath = Q1_bath - 1.5 * IQR_bath\n",
        "upper_bound_bath = Q3_bath + 1.5 * IQR_bath\n",
        "df = df[(df['bath'] > lower_bound_bath) & (df['bath'] < upper_bound_bath)]"
      ],
      "metadata": {
        "id": "pUrBxHG8MaUV"
      },
      "execution_count": 99,
      "outputs": []
    },
    {
      "cell_type": "code",
      "source": [
        "Q1_balcony = df['balcony'].quantile(0.25)\n",
        "Q3_balcony = df['balcony'].quantile(0.75)\n",
        "IQR_balcony = Q3_balcony - Q1_balcony\n",
        "lower_bound_balcony = Q1_balcony - 1.5 * IQR_balcony\n",
        "upper_bound_balcony = Q3_balcony + 1.5 * IQR_balcony\n",
        "df = df[(df['balcony'] > lower_bound_balcony) & (df['balcony'] < upper_bound_balcony)]"
      ],
      "metadata": {
        "id": "rWkl60e4MhCQ"
      },
      "execution_count": 100,
      "outputs": []
    },
    {
      "cell_type": "code",
      "source": [
        "df.describe()"
      ],
      "metadata": {
        "colab": {
          "base_uri": "https://localhost:8080/",
          "height": 300
        },
        "id": "S4aEl70DMi0u",
        "outputId": "cabf7df4-3d22-4183-ce63-0539fc8c0c81"
      },
      "execution_count": 101,
      "outputs": [
        {
          "output_type": "execute_result",
          "data": {
            "text/plain": [
              "         total_sqft          sqft          bath       balcony         price\n",
              "count  11116.000000  11116.000000  11116.000000  11116.000000  11116.000000\n",
              "mean    1324.574113   1325.029395      2.317470      1.555685     75.050773\n",
              "std      715.428329    715.485139      0.694211      0.788270     40.010723\n",
              "min       11.000000     45.000000      1.000000      0.000000      8.000000\n",
              "25%     1075.000000   1075.000000      2.000000      1.000000     46.615000\n",
              "50%     1225.000000   1225.000000      2.000000      2.000000     65.000000\n",
              "75%     1510.000000   1510.000000      3.000000      2.000000     92.000000\n",
              "max    52272.000000  52272.000000      4.000000      3.000000    224.000000"
            ],
            "text/html": [
              "\n",
              "  <div id=\"df-fac28b66-82e5-40d7-a7b4-c2a684d92b02\" class=\"colab-df-container\">\n",
              "    <div>\n",
              "<style scoped>\n",
              "    .dataframe tbody tr th:only-of-type {\n",
              "        vertical-align: middle;\n",
              "    }\n",
              "\n",
              "    .dataframe tbody tr th {\n",
              "        vertical-align: top;\n",
              "    }\n",
              "\n",
              "    .dataframe thead th {\n",
              "        text-align: right;\n",
              "    }\n",
              "</style>\n",
              "<table border=\"1\" class=\"dataframe\">\n",
              "  <thead>\n",
              "    <tr style=\"text-align: right;\">\n",
              "      <th></th>\n",
              "      <th>total_sqft</th>\n",
              "      <th>sqft</th>\n",
              "      <th>bath</th>\n",
              "      <th>balcony</th>\n",
              "      <th>price</th>\n",
              "    </tr>\n",
              "  </thead>\n",
              "  <tbody>\n",
              "    <tr>\n",
              "      <th>count</th>\n",
              "      <td>11116.000000</td>\n",
              "      <td>11116.000000</td>\n",
              "      <td>11116.000000</td>\n",
              "      <td>11116.000000</td>\n",
              "      <td>11116.000000</td>\n",
              "    </tr>\n",
              "    <tr>\n",
              "      <th>mean</th>\n",
              "      <td>1324.574113</td>\n",
              "      <td>1325.029395</td>\n",
              "      <td>2.317470</td>\n",
              "      <td>1.555685</td>\n",
              "      <td>75.050773</td>\n",
              "    </tr>\n",
              "    <tr>\n",
              "      <th>std</th>\n",
              "      <td>715.428329</td>\n",
              "      <td>715.485139</td>\n",
              "      <td>0.694211</td>\n",
              "      <td>0.788270</td>\n",
              "      <td>40.010723</td>\n",
              "    </tr>\n",
              "    <tr>\n",
              "      <th>min</th>\n",
              "      <td>11.000000</td>\n",
              "      <td>45.000000</td>\n",
              "      <td>1.000000</td>\n",
              "      <td>0.000000</td>\n",
              "      <td>8.000000</td>\n",
              "    </tr>\n",
              "    <tr>\n",
              "      <th>25%</th>\n",
              "      <td>1075.000000</td>\n",
              "      <td>1075.000000</td>\n",
              "      <td>2.000000</td>\n",
              "      <td>1.000000</td>\n",
              "      <td>46.615000</td>\n",
              "    </tr>\n",
              "    <tr>\n",
              "      <th>50%</th>\n",
              "      <td>1225.000000</td>\n",
              "      <td>1225.000000</td>\n",
              "      <td>2.000000</td>\n",
              "      <td>2.000000</td>\n",
              "      <td>65.000000</td>\n",
              "    </tr>\n",
              "    <tr>\n",
              "      <th>75%</th>\n",
              "      <td>1510.000000</td>\n",
              "      <td>1510.000000</td>\n",
              "      <td>3.000000</td>\n",
              "      <td>2.000000</td>\n",
              "      <td>92.000000</td>\n",
              "    </tr>\n",
              "    <tr>\n",
              "      <th>max</th>\n",
              "      <td>52272.000000</td>\n",
              "      <td>52272.000000</td>\n",
              "      <td>4.000000</td>\n",
              "      <td>3.000000</td>\n",
              "      <td>224.000000</td>\n",
              "    </tr>\n",
              "  </tbody>\n",
              "</table>\n",
              "</div>\n",
              "    <div class=\"colab-df-buttons\">\n",
              "\n",
              "  <div class=\"colab-df-container\">\n",
              "    <button class=\"colab-df-convert\" onclick=\"convertToInteractive('df-fac28b66-82e5-40d7-a7b4-c2a684d92b02')\"\n",
              "            title=\"Convert this dataframe to an interactive table.\"\n",
              "            style=\"display:none;\">\n",
              "\n",
              "  <svg xmlns=\"http://www.w3.org/2000/svg\" height=\"24px\" viewBox=\"0 -960 960 960\">\n",
              "    <path d=\"M120-120v-720h720v720H120Zm60-500h600v-160H180v160Zm220 220h160v-160H400v160Zm0 220h160v-160H400v160ZM180-400h160v-160H180v160Zm440 0h160v-160H620v160ZM180-180h160v-160H180v160Zm440 0h160v-160H620v160Z\"/>\n",
              "  </svg>\n",
              "    </button>\n",
              "\n",
              "  <style>\n",
              "    .colab-df-container {\n",
              "      display:flex;\n",
              "      gap: 12px;\n",
              "    }\n",
              "\n",
              "    .colab-df-convert {\n",
              "      background-color: #E8F0FE;\n",
              "      border: none;\n",
              "      border-radius: 50%;\n",
              "      cursor: pointer;\n",
              "      display: none;\n",
              "      fill: #1967D2;\n",
              "      height: 32px;\n",
              "      padding: 0 0 0 0;\n",
              "      width: 32px;\n",
              "    }\n",
              "\n",
              "    .colab-df-convert:hover {\n",
              "      background-color: #E2EBFA;\n",
              "      box-shadow: 0px 1px 2px rgba(60, 64, 67, 0.3), 0px 1px 3px 1px rgba(60, 64, 67, 0.15);\n",
              "      fill: #174EA6;\n",
              "    }\n",
              "\n",
              "    .colab-df-buttons div {\n",
              "      margin-bottom: 4px;\n",
              "    }\n",
              "\n",
              "    [theme=dark] .colab-df-convert {\n",
              "      background-color: #3B4455;\n",
              "      fill: #D2E3FC;\n",
              "    }\n",
              "\n",
              "    [theme=dark] .colab-df-convert:hover {\n",
              "      background-color: #434B5C;\n",
              "      box-shadow: 0px 1px 3px 1px rgba(0, 0, 0, 0.15);\n",
              "      filter: drop-shadow(0px 1px 2px rgba(0, 0, 0, 0.3));\n",
              "      fill: #FFFFFF;\n",
              "    }\n",
              "  </style>\n",
              "\n",
              "    <script>\n",
              "      const buttonEl =\n",
              "        document.querySelector('#df-fac28b66-82e5-40d7-a7b4-c2a684d92b02 button.colab-df-convert');\n",
              "      buttonEl.style.display =\n",
              "        google.colab.kernel.accessAllowed ? 'block' : 'none';\n",
              "\n",
              "      async function convertToInteractive(key) {\n",
              "        const element = document.querySelector('#df-fac28b66-82e5-40d7-a7b4-c2a684d92b02');\n",
              "        const dataTable =\n",
              "          await google.colab.kernel.invokeFunction('convertToInteractive',\n",
              "                                                    [key], {});\n",
              "        if (!dataTable) return;\n",
              "\n",
              "        const docLinkHtml = 'Like what you see? Visit the ' +\n",
              "          '<a target=\"_blank\" href=https://colab.research.google.com/notebooks/data_table.ipynb>data table notebook</a>'\n",
              "          + ' to learn more about interactive tables.';\n",
              "        element.innerHTML = '';\n",
              "        dataTable['output_type'] = 'display_data';\n",
              "        await google.colab.output.renderOutput(dataTable, element);\n",
              "        const docLink = document.createElement('div');\n",
              "        docLink.innerHTML = docLinkHtml;\n",
              "        element.appendChild(docLink);\n",
              "      }\n",
              "    </script>\n",
              "  </div>\n",
              "\n",
              "\n",
              "<div id=\"df-fb1f62d1-ec22-43a8-b68a-3ff9ef5ca8ad\">\n",
              "  <button class=\"colab-df-quickchart\" onclick=\"quickchart('df-fb1f62d1-ec22-43a8-b68a-3ff9ef5ca8ad')\"\n",
              "            title=\"Suggest charts\"\n",
              "            style=\"display:none;\">\n",
              "\n",
              "<svg xmlns=\"http://www.w3.org/2000/svg\" height=\"24px\"viewBox=\"0 0 24 24\"\n",
              "     width=\"24px\">\n",
              "    <g>\n",
              "        <path d=\"M19 3H5c-1.1 0-2 .9-2 2v14c0 1.1.9 2 2 2h14c1.1 0 2-.9 2-2V5c0-1.1-.9-2-2-2zM9 17H7v-7h2v7zm4 0h-2V7h2v10zm4 0h-2v-4h2v4z\"/>\n",
              "    </g>\n",
              "</svg>\n",
              "  </button>\n",
              "\n",
              "<style>\n",
              "  .colab-df-quickchart {\n",
              "      --bg-color: #E8F0FE;\n",
              "      --fill-color: #1967D2;\n",
              "      --hover-bg-color: #E2EBFA;\n",
              "      --hover-fill-color: #174EA6;\n",
              "      --disabled-fill-color: #AAA;\n",
              "      --disabled-bg-color: #DDD;\n",
              "  }\n",
              "\n",
              "  [theme=dark] .colab-df-quickchart {\n",
              "      --bg-color: #3B4455;\n",
              "      --fill-color: #D2E3FC;\n",
              "      --hover-bg-color: #434B5C;\n",
              "      --hover-fill-color: #FFFFFF;\n",
              "      --disabled-bg-color: #3B4455;\n",
              "      --disabled-fill-color: #666;\n",
              "  }\n",
              "\n",
              "  .colab-df-quickchart {\n",
              "    background-color: var(--bg-color);\n",
              "    border: none;\n",
              "    border-radius: 50%;\n",
              "    cursor: pointer;\n",
              "    display: none;\n",
              "    fill: var(--fill-color);\n",
              "    height: 32px;\n",
              "    padding: 0;\n",
              "    width: 32px;\n",
              "  }\n",
              "\n",
              "  .colab-df-quickchart:hover {\n",
              "    background-color: var(--hover-bg-color);\n",
              "    box-shadow: 0 1px 2px rgba(60, 64, 67, 0.3), 0 1px 3px 1px rgba(60, 64, 67, 0.15);\n",
              "    fill: var(--button-hover-fill-color);\n",
              "  }\n",
              "\n",
              "  .colab-df-quickchart-complete:disabled,\n",
              "  .colab-df-quickchart-complete:disabled:hover {\n",
              "    background-color: var(--disabled-bg-color);\n",
              "    fill: var(--disabled-fill-color);\n",
              "    box-shadow: none;\n",
              "  }\n",
              "\n",
              "  .colab-df-spinner {\n",
              "    border: 2px solid var(--fill-color);\n",
              "    border-color: transparent;\n",
              "    border-bottom-color: var(--fill-color);\n",
              "    animation:\n",
              "      spin 1s steps(1) infinite;\n",
              "  }\n",
              "\n",
              "  @keyframes spin {\n",
              "    0% {\n",
              "      border-color: transparent;\n",
              "      border-bottom-color: var(--fill-color);\n",
              "      border-left-color: var(--fill-color);\n",
              "    }\n",
              "    20% {\n",
              "      border-color: transparent;\n",
              "      border-left-color: var(--fill-color);\n",
              "      border-top-color: var(--fill-color);\n",
              "    }\n",
              "    30% {\n",
              "      border-color: transparent;\n",
              "      border-left-color: var(--fill-color);\n",
              "      border-top-color: var(--fill-color);\n",
              "      border-right-color: var(--fill-color);\n",
              "    }\n",
              "    40% {\n",
              "      border-color: transparent;\n",
              "      border-right-color: var(--fill-color);\n",
              "      border-top-color: var(--fill-color);\n",
              "    }\n",
              "    60% {\n",
              "      border-color: transparent;\n",
              "      border-right-color: var(--fill-color);\n",
              "    }\n",
              "    80% {\n",
              "      border-color: transparent;\n",
              "      border-right-color: var(--fill-color);\n",
              "      border-bottom-color: var(--fill-color);\n",
              "    }\n",
              "    90% {\n",
              "      border-color: transparent;\n",
              "      border-bottom-color: var(--fill-color);\n",
              "    }\n",
              "  }\n",
              "</style>\n",
              "\n",
              "  <script>\n",
              "    async function quickchart(key) {\n",
              "      const quickchartButtonEl =\n",
              "        document.querySelector('#' + key + ' button');\n",
              "      quickchartButtonEl.disabled = true;  // To prevent multiple clicks.\n",
              "      quickchartButtonEl.classList.add('colab-df-spinner');\n",
              "      try {\n",
              "        const charts = await google.colab.kernel.invokeFunction(\n",
              "            'suggestCharts', [key], {});\n",
              "      } catch (error) {\n",
              "        console.error('Error during call to suggestCharts:', error);\n",
              "      }\n",
              "      quickchartButtonEl.classList.remove('colab-df-spinner');\n",
              "      quickchartButtonEl.classList.add('colab-df-quickchart-complete');\n",
              "    }\n",
              "    (() => {\n",
              "      let quickchartButtonEl =\n",
              "        document.querySelector('#df-fb1f62d1-ec22-43a8-b68a-3ff9ef5ca8ad button');\n",
              "      quickchartButtonEl.style.display =\n",
              "        google.colab.kernel.accessAllowed ? 'block' : 'none';\n",
              "    })();\n",
              "  </script>\n",
              "</div>\n",
              "\n",
              "    </div>\n",
              "  </div>\n"
            ],
            "application/vnd.google.colaboratory.intrinsic+json": {
              "type": "dataframe",
              "summary": "{\n  \"name\": \"df\",\n  \"rows\": 8,\n  \"fields\": [\n    {\n      \"column\": \"total_sqft\",\n      \"properties\": {\n        \"dtype\": \"number\",\n        \"std\": 17982.937162285085,\n        \"min\": 11.0,\n        \"max\": 52272.0,\n        \"num_unique_values\": 8,\n        \"samples\": [\n          1324.574112540482,\n          1225.0,\n          11116.0\n        ],\n        \"semantic_type\": \"\",\n        \"description\": \"\"\n      }\n    },\n    {\n      \"column\": \"sqft\",\n      \"properties\": {\n        \"dtype\": \"number\",\n        \"std\": 17980.57588311632,\n        \"min\": 45.0,\n        \"max\": 52272.0,\n        \"num_unique_values\": 8,\n        \"samples\": [\n          1325.0293945663907,\n          1225.0,\n          11116.0\n        ],\n        \"semantic_type\": \"\",\n        \"description\": \"\"\n      }\n    },\n    {\n      \"column\": \"bath\",\n      \"properties\": {\n        \"dtype\": \"number\",\n        \"std\": 3929.3414246459824,\n        \"min\": 0.6942114796773513,\n        \"max\": 11116.0,\n        \"num_unique_values\": 7,\n        \"samples\": [\n          11116.0,\n          2.3174703130622527,\n          3.0\n        ],\n        \"semantic_type\": \"\",\n        \"description\": \"\"\n      }\n    },\n    {\n      \"column\": \"balcony\",\n      \"properties\": {\n        \"dtype\": \"number\",\n        \"std\": 3929.577145795464,\n        \"min\": 0.0,\n        \"max\": 11116.0,\n        \"num_unique_values\": 7,\n        \"samples\": [\n          11116.0,\n          1.5556854983807125,\n          2.0\n        ],\n        \"semantic_type\": \"\",\n        \"description\": \"\"\n      }\n    },\n    {\n      \"column\": \"price\",\n      \"properties\": {\n        \"dtype\": \"number\",\n        \"std\": 3902.8171853712042,\n        \"min\": 8.0,\n        \"max\": 11116.0,\n        \"num_unique_values\": 8,\n        \"samples\": [\n          75.05077320978769,\n          65.0,\n          11116.0\n        ],\n        \"semantic_type\": \"\",\n        \"description\": \"\"\n      }\n    }\n  ]\n}"
            }
          },
          "metadata": {},
          "execution_count": 101
        }
      ]
    },
    {
      "cell_type": "code",
      "source": [
        "plt.figure(figsize=(12, 6))\n",
        "plt.subplot(1, 3, 1)\n",
        "sns.boxplot(y='total_sqft', data=df)\n",
        "plt.title('Total Sqft (Without Outliers)')\n",
        "\n",
        "plt.subplot(1, 3, 2)\n",
        "sns.boxplot(y='bath', data=df)\n",
        "plt.title('Bath (Without Outliers)')\n",
        "\n",
        "plt.subplot(1, 3, 3)\n",
        "sns.boxplot(y='balcony', data=df)\n",
        "plt.title('Balcony (Without Outliers)')\n",
        "\n",
        "plt.tight_layout()\n",
        "plt.show()"
      ],
      "metadata": {
        "colab": {
          "base_uri": "https://localhost:8080/",
          "height": 607
        },
        "id": "45GAfE_3Mkye",
        "outputId": "4cbf2544-f363-423d-b05e-5f2980864921"
      },
      "execution_count": 102,
      "outputs": [
        {
          "output_type": "display_data",
          "data": {
            "text/plain": [
              "<Figure size 1200x600 with 3 Axes>"
            ],
            "image/png": "[encoded data removed]"
          },
          "metadata": {}
        }
      ]
    },
    {
      "cell_type": "markdown",
      "source": [
        "# Features Selection"
      ],
      "metadata": {
        "id": "nZtRz8hyMsmG"
      }
    },
    {
      "cell_type": "code",
      "source": [
        "def convert_to_sqft(x):\n",
        "    try:\n",
        "        if isinstance(x, float):\n",
        "            return x\n",
        "        elif 'Sq. Meter' in x:\n",
        "            return float(x.split(' ')[0]) * 10.7639\n",
        "        elif 'Acres' in x:\n",
        "            return float(x.split(' ')[0]) * 43560\n",
        "        else:\n",
        "            return float(x)\n",
        "    except (ValueError, AttributeError):\n",
        "        return None"
      ],
      "metadata": {
        "id": "uIfcYOZpMq2Z"
      },
      "execution_count": 103,
      "outputs": []
    },
    {
      "cell_type": "code",
      "source": [
        "df['total_sqft'] = df['total_sqft'].apply(convert_to_sqft)\n",
        "df.dropna(subset=['total_sqft'], inplace=True)"
      ],
      "metadata": {
        "id": "VAt_bRM7Mws1"
      },
      "execution_count": 104,
      "outputs": []
    },
    {
      "cell_type": "code",
      "source": [
        "selected_features = ['total_sqft', 'bath', 'balcony', 'size', 'location', 'price']\n",
        "df_selected = df[selected_features]"
      ],
      "metadata": {
        "id": "KK-3dsihMybL"
      },
      "execution_count": 105,
      "outputs": []
    },
    {
      "cell_type": "code",
      "source": [
        "df_selected = df[selected_features].copy()\n",
        "df_selected.dropna(inplace=True)"
      ],
      "metadata": {
        "id": "2IZ3TVKTMz_7"
      },
      "execution_count": 106,
      "outputs": []
    },
    {
      "cell_type": "code",
      "source": [
        "X = df_selected.drop('price', axis=1)\n",
        "y = df_selected['price']"
      ],
      "metadata": {
        "id": "F9aBtFg2M5B1"
      },
      "execution_count": 107,
      "outputs": []
    },
    {
      "cell_type": "code",
      "source": [
        "X = pd.get_dummies(X, columns=['location'], drop_first=True)"
      ],
      "metadata": {
        "id": "MwurWElVM6mp"
      },
      "execution_count": 108,
      "outputs": []
    },
    {
      "cell_type": "code",
      "source": [
        "X_train, X_test, y_train, y_test = train_test_split(X, y, test_size=0.2, random_state=42)"
      ],
      "metadata": {
        "id": "lZZkNvSMM83w"
      },
      "execution_count": 109,
      "outputs": []
    },
    {
      "cell_type": "code",
      "source": [
        "def clean_size(x):\n",
        "    pattern = r'\\d+'\n",
        "    matches = re.findall(pattern, x)\n",
        "    if matches:\n",
        "        return int(matches[0])\n",
        "    else:\n",
        "        return None"
      ],
      "metadata": {
        "id": "Lm0xG6rZM-YN"
      },
      "execution_count": 110,
      "outputs": []
    },
    {
      "cell_type": "code",
      "source": [
        "df_selected['size'] = df_selected['size'].apply(clean_size)"
      ],
      "metadata": {
        "id": "kF7gpn6VM_7y"
      },
      "execution_count": 111,
      "outputs": []
    },
    {
      "cell_type": "code",
      "source": [
        "df_selected.dropna(inplace=True)"
      ],
      "metadata": {
        "id": "PzQiuxNFNB19"
      },
      "execution_count": 112,
      "outputs": []
    },
    {
      "cell_type": "code",
      "source": [
        "X = df_selected.drop('price', axis=1)\n",
        "y = df_selected['price']"
      ],
      "metadata": {
        "id": "5AXwS56VNDm0"
      },
      "execution_count": 113,
      "outputs": []
    },
    {
      "cell_type": "code",
      "source": [
        "X = pd.get_dummies(X, columns=['location'], drop_first=True)"
      ],
      "metadata": {
        "id": "ivBqsDdgNFn_"
      },
      "execution_count": 114,
      "outputs": []
    },
    {
      "cell_type": "code",
      "source": [
        "X_train, X_test, y_train, y_test = train_test_split(X, y, test_size=0.2, random_state=42)"
      ],
      "metadata": {
        "id": "krrBwelENHw9"
      },
      "execution_count": 115,
      "outputs": []
    },
    {
      "cell_type": "code",
      "source": [
        "model = LinearRegression()\n",
        "model.fit(X_train, y_train)"
      ],
      "metadata": {
        "colab": {
          "base_uri": "https://localhost:8080/",
          "height": 75
        },
        "id": "SDP7g5PqNJJa",
        "outputId": "4136ece8-852a-4d63-cdcc-9f2990ba4233"
      },
      "execution_count": 116,
      "outputs": [
        {
          "output_type": "execute_result",
          "data": {
            "text/plain": [
              "LinearRegression()"
            ],
            "text/html": [
              "<style>#sk-container-id-2 {color: black;}#sk-container-id-2 pre{padding: 0;}#sk-container-id-2 div.sk-toggleable {background-color: white;}#sk-container-id-2 label.sk-toggleable__label {cursor: pointer;display: block;width: 100%;margin-bottom: 0;padding: 0.3em;box-sizing: border-box;text-align: center;}#sk-container-id-2 label.sk-toggleable__label-arrow:before {content: \"▸\";float: left;margin-right: 0.25em;color: #696969;}#sk-container-id-2 label.sk-toggleable__label-arrow:hover:before {color: black;}#sk-container-id-2 div.sk-estimator:hover label.sk-toggleable__label-arrow:before {color: black;}#sk-container-id-2 div.sk-toggleable__content {max-height: 0;max-width: 0;overflow: hidden;text-align: left;background-color: #f0f8ff;}#sk-container-id-2 div.sk-toggleable__content pre {margin: 0.2em;color: black;border-radius: 0.25em;background-color: #f0f8ff;}#sk-container-id-2 input.sk-toggleable__control:checked~div.sk-toggleable__content {max-height: 200px;max-width: 100%;overflow: auto;}#sk-container-id-2 input.sk-toggleable__control:checked~label.sk-toggleable__label-arrow:before {content: \"▾\";}#sk-container-id-2 div.sk-estimator input.sk-toggleable__control:checked~label.sk-toggleable__label {background-color: #d4ebff;}#sk-container-id-2 div.sk-label input.sk-toggleable__control:checked~label.sk-toggleable__label {background-color: #d4ebff;}#sk-container-id-2 input.sk-hidden--visually {border: 0;clip: rect(1px 1px 1px 1px);clip: rect(1px, 1px, 1px, 1px);height: 1px;margin: -1px;overflow: hidden;padding: 0;position: absolute;width: 1px;}#sk-container-id-2 div.sk-estimator {font-family: monospace;background-color: #f0f8ff;border: 1px dotted black;border-radius: 0.25em;box-sizing: border-box;margin-bottom: 0.5em;}#sk-container-id-2 div.sk-estimator:hover {background-color: #d4ebff;}#sk-container-id-2 div.sk-parallel-item::after {content: \"\";width: 100%;border-bottom: 1px solid gray;flex-grow: 1;}#sk-container-id-2 div.sk-label:hover label.sk-toggleable__label {background-color: #d4ebff;}#sk-container-id-2 div.sk-serial::before {content: \"\";position: absolute;border-left: 1px solid gray;box-sizing: border-box;top: 0;bottom: 0;left: 50%;z-index: 0;}#sk-container-id-2 div.sk-serial {display: flex;flex-direction: column;align-items: center;background-color: white;padding-right: 0.2em;padding-left: 0.2em;position: relative;}#sk-container-id-2 div.sk-item {position: relative;z-index: 1;}#sk-container-id-2 div.sk-parallel {display: flex;align-items: stretch;justify-content: center;background-color: white;position: relative;}#sk-container-id-2 div.sk-item::before, #sk-container-id-2 div.sk-parallel-item::before {content: \"\";position: absolute;border-left: 1px solid gray;box-sizing: border-box;top: 0;bottom: 0;left: 50%;z-index: -1;}#sk-container-id-2 div.sk-parallel-item {display: flex;flex-direction: column;z-index: 1;position: relative;background-color: white;}#sk-container-id-2 div.sk-parallel-item:first-child::after {align-self: flex-end;width: 50%;}#sk-container-id-2 div.sk-parallel-item:last-child::after {align-self: flex-start;width: 50%;}#sk-container-id-2 div.sk-parallel-item:only-child::after {width: 0;}#sk-container-id-2 div.sk-dashed-wrapped {border: 1px dashed gray;margin: 0 0.4em 0.5em 0.4em;box-sizing: border-box;padding-bottom: 0.4em;background-color: white;}#sk-container-id-2 div.sk-label label {font-family: monospace;font-weight: bold;display: inline-block;line-height: 1.2em;}#sk-container-id-2 div.sk-label-container {text-align: center;}#sk-container-id-2 div.sk-container {/* jupyter's `normalize.less` sets `[hidden] { display: none; }` but bootstrap.min.css set `[hidden] { display: none !important; }` so we also need the `!important` here to be able to override the default hidden behavior on the sphinx rendered scikit-learn.org. See: https://github.com/scikit-learn/scikit-learn/issues/21755 */display: inline-block !important;position: relative;}#sk-container-id-2 div.sk-text-repr-fallback {display: none;}</style><div id=\"sk-container-id-2\" class=\"sk-top-container\"><div class=\"sk-text-repr-fallback\"><pre>LinearRegression()</pre><b>In a Jupyter environment, please rerun this cell to show the HTML representation or trust the notebook. <br />On GitHub, the HTML representation is unable to render, please try loading this page with nbviewer.org.</b></div><div class=\"sk-container\" hidden><div class=\"sk-item\"><div class=\"sk-estimator sk-toggleable\"><input class=\"sk-toggleable__control sk-hidden--visually\" id=\"sk-estimator-id-2\" type=\"checkbox\" checked><label for=\"sk-estimator-id-2\" class=\"sk-toggleable__label sk-toggleable__label-arrow\">LinearRegression</label><div class=\"sk-toggleable__content\"><pre>LinearRegression()</pre></div></div></div></div></div>"
            ]
          },
          "metadata": {},
          "execution_count": 116
        }
      ]
    },
    {
      "cell_type": "code",
      "source": [
        "y_pred = model.predict(X_test)"
      ],
      "metadata": {
        "id": "UpzyyQI0NKtS"
      },
      "execution_count": 117,
      "outputs": []
    },
    {
      "cell_type": "code",
      "source": [
        "rmse = mean_squared_error(y_test, y_pred, squared=False)\n",
        "print(\"Root Mean Squared Error (RMSE):\", rmse)"
      ],
      "metadata": {
        "colab": {
          "base_uri": "https://localhost:8080/"
        },
        "id": "i9xTdTj7NMnj",
        "outputId": "3c751fb1-23ff-40c9-fb2b-c8b520adffb2"
      },
      "execution_count": 118,
      "outputs": [
        {
          "output_type": "stream",
          "name": "stdout",
          "text": [
            "Root Mean Squared Error (RMSE): 3406122432.9048457\n"
          ]
        }
      ]
    },
    {
      "cell_type": "code",
      "source": [
        "print(\"\\nModel Coefficients:-\")\n",
        "coefficients = pd.DataFrame({'Feature': X.columns, 'Coefficient': model.coef_})\n",
        "print(coefficients)"
      ],
      "metadata": {
        "colab": {
          "base_uri": "https://localhost:8080/"
        },
        "id": "1TQxVFhaNOKH",
        "outputId": "b1ec7d59-233a-4846-9672-464532bca387"
      },
      "execution_count": 119,
      "outputs": [
        {
          "output_type": "stream",
          "name": "stdout",
          "text": [
            "\n",
            "Model Coefficients:-\n",
            "                          Feature   Coefficient\n",
            "0                      total_sqft  2.402812e-02\n",
            "1                            bath  1.724416e+01\n",
            "2                         balcony -1.107445e+00\n",
            "3                            size  6.445937e+00\n",
            "4             location_ Banaswadi  1.366361e+01\n",
            "...                           ...           ...\n",
            "1133          location_sankeswari  1.827978e-10\n",
            "1134   location_sapthagiri Layout  6.975137e+01\n",
            "1135  location_singapura paradise  3.252984e+01\n",
            "1136            location_tc.palya  6.577328e-01\n",
            "1137          location_whitefiled -2.099253e+01\n",
            "\n",
            "[1138 rows x 2 columns]\n"
          ]
        }
      ]
    },
    {
      "cell_type": "code",
      "source": [
        "# Model equation\n",
        "coefficients_str = \" + \".join([\"{:.6f} * {}\".format(coef, feat) for coef, feat in zip(model.coef_, X.columns)])\n",
        "model_equation = \"Predicted price = {:.6f} + {}\".format(model.intercept_, coefficients_str)"
      ],
      "metadata": {
        "id": "fFTQmRrbNRBH"
      },
      "execution_count": 120,
      "outputs": []
    },
    {
      "cell_type": "code",
      "source": [
        "# Value of β0 (intercept)\n",
        "intercept_value = model.intercept_"
      ],
      "metadata": {
        "id": "3ZNFjIXkNS_J"
      },
      "execution_count": 121,
      "outputs": []
    },
    {
      "cell_type": "code",
      "source": [
        "# Features significance\n",
        "significant_features = coefficients[coefficients['Coefficient'].abs() > 1]"
      ],
      "metadata": {
        "id": "rjjF7QsINVEi"
      },
      "execution_count": 122,
      "outputs": []
    },
    {
      "cell_type": "code",
      "source": [
        "# Print outputs\n",
        "print(\"Model Equation:\")\n",
        "print(model_equation)\n",
        "print(\"\\nValue of β0 (Intercept):\", intercept_value)\n",
        "print(\"\\nSignificant Features:\")\n",
        "print(significant_features)"
      ],
      "metadata": {
        "colab": {
          "base_uri": "https://localhost:8080/"
        },
        "id": "liDyDnt7NWfr",
        "outputId": "781a4fdc-17d4-4143-89cd-2e85b6850142"
      },
      "execution_count": 123,
      "outputs": [
        {
          "output_type": "stream",
          "name": "stdout",
          "text": [
            "Model Equation:\n",
            "Predicted price = -15.016503 + 0.024028 * total_sqft + 17.244156 * bath + -1.107445 * balcony + 6.445937 * size + 13.663606 * location_ Banaswadi + 26.335048 * location_ Basavangudi + 7.104117 * location_ Bhoganhalli + 39.431134 * location_ Devarabeesana Halli + -0.764824 * location_ Devarachikkanahalli + 3.858281 * location_ Electronic City + 2.318662 * location_ Mysore Highway + 1.214840 * location_ Rachenahalli + 4.876819 * location_ Thanisandra + 22.688444 * location_ Whitefield + 57.880922 * location_ ittamadu + 149.183262 * location_12th cross srinivas nagar banshankari 3rd stage + -5.842192 * location_1st Block BEL Layout + 9.345002 * location_1st Block HBR Layout + 38.686219 * location_1st Block HRBR Layout + 15.548907 * location_1st Block Jayanagar + 21.614867 * location_1st Block Koramangala + 48.442662 * location_1st Phase JP Nagar + -4.032717 * location_1st Stage Domlur + 2.128549 * location_1st Stage Indira Nagar + 0.224026 * location_2nd Block Bel Layout + 0.602040 * location_2nd Block Hrbr Layout + 85.349515 * location_2nd Block Jayanagar + 27.958026 * location_2nd Phase JP Nagar + -15.748491 * location_2nd Phase Judicial Layout + 30.178815 * location_2nd Stage Arekere Mico Layout + 31.445599 * location_2nd Stage Nagarbhavi + 121.219939 * location_2nd phase jp nagar, jp nagar + 67.529835 * location_3rd Block Banashankari + -3.002555 * location_3rd Block HBR Layout + 57.563073 * location_3rd Block Hrbr Layout + 72.843268 * location_3rd Block Jayanagar + 75.219309 * location_3rd Block Koramangala + 30795585334.154202 * location_3rd Phase Iti Layout + 5.161737 * location_3rd Phase JP Nagar + -14.736908 * location_3rd Stage Raja Rajeshwari Nagar + -262.008610 * location_4 Bedroom Farm House in Bagalur + 65.324402 * location_4th Block Jayanagar + 56.931399 * location_4th Block Koramangala + -15.073143 * location_4th Phase JP Nagar + 50.361038 * location_4th T block Jayanagar + 26.708469 * location_5th Block Hbr Layout + 25.283738 * location_5th Block Jayanagar + 0.979928 * location_5th Phase JP Nagar + -16.894297 * location_5th Stage BEML Layout + 53.932572 * location_6th Block Rajaji Nagar + 40.037268 * location_6th Phase JP Nagar + 13384679328.997438 * location_6th block Koramangala + 76.145145 * location_7th Block Jayanagar + 14.923865 * location_7th Phase JP Nagar + 53.420295 * location_8th Block Jayanagar + -4.817555 * location_8th Phase JP Nagar + 49.811042 * location_8th block Koramangala + 16659444381.546600 * location_9th Block Jayanagar + -4.635450 * location_9th Phase JP Nagar + 15.915563 * location_A Narayanapura + -4.119377 * location_AECS Layout + -1.643778 * location_AGS Layout + 2.529878 * location_AMS Layout + -15.454526 * location_Aavalahalli + -16.700734 * location_Abbaiah Reddy Layout + -13.527089 * location_Abbigere + 143.595916 * location_Abshot Layout + -11.771992 * location_Adarsh Nagar + -34.760934 * location_Addischetan Layout + 3.158364 * location_Adityanagar + 4.886033 * location_Adugodi + 73511635593.425385 * location_Agara Village + 65.996635 * location_Agrahara Dasarahalli + 0.812839 * location_Air View Colony + -1.338124 * location_Aishwarya Crystal Layout + -6.691402 * location_Akash Nagar + 4.265043 * location_Akshaya Nagar + 2.924360 * location_Akshaya Vana + -3.152126 * location_Akshayanagara East + 0.897315 * location_Akshayanagara West + 5.025233 * location_Akshya Nagar + -14.530315 * location_Alfa Garden Layout + -22.712007 * location_Allalasandra + -9.727531 * location_Alur + 2.912765 * location_Amam Enclave Layout + -26.504443 * location_Amarjyothi Colony + 23.273895 * location_Ambalipura + 80.792138 * location_Ambedkar Colony + 18.323273 * location_Ambedkar Nagar + 23.339768 * location_Amblipura + -8.128388 * location_Amco Colony + -0.259433 * location_Amruthahalli + -0.798539 * location_Amruthnagar + -0.966248 * location_Anand Nagar + 16.387283 * location_Anand nagar + -14.456319 * location_Anandapura + -21.982580 * location_Anantapura + -10.624197 * location_Anantapuram + -22.527067 * location_Ananth Nagar + -9.768784 * location_Ananthanagar Phase 1,Electronic City , phase 2 + -3.732048 * location_Ananthapura, T C palaya Main Road + -10.378319 * location_Anathanagar + 28.637216 * location_Andrahalli + -13.016581 * location_Anekal + 116.980700 * location_Anjana Nagar + -18.153371 * location_Anjanapura + 12.535692 * location_Anjappa Layout + -10.500151 * location_Ankappa Layout + 0.351297 * location_Annaiah Reddy Layout + 0.636806 * location_Annapoorneshwari Layout, JP nagar 7th phase + 13.696087 * location_Annapurneshwari Nagar + -13.842277 * location_Annasandrapalya + -17.682473 * location_Anugrah Layout + 5.542616 * location_Anwar Layout + 7.747485 * location_Ardendale + -5.904542 * location_Arehalli + 19.229891 * location_Arekempanahalli + 15.592727 * location_Arekere + 13.696117 * location_Arishinakunte + -2.406535 * location_Ashirvad Colony + 11.852002 * location_Ashok Nagar + -1.016792 * location_Ashwath Nagar + -3.416978 * location_Ashwathnagar + 20.886700 * location_Ashwini layout + -20.982580 * location_Asthagrama Layout + -3.135340 * location_Atmananda Colony + -12.709680 * location_Attibele + 26.729649 * location_Attiguppe + 45.963994 * location_Attur Layout + -3.245509 * location_Austin Town + 7.044517 * location_Avalahalli + -11.849651 * location_Ayappa Nagar + 2.150234 * location_B Channasandra + 2.622592 * location_B Narayanapura + 67.018134 * location_B Y Raveshwara Nagar + -24726583983.909145 * location_BAGUR + -30.428486 * location_BAGUR ROAD + -14.270870 * location_BCC Layout + 8.289155 * location_BCMC Layout + 6568973509.847704 * location_BDS Layout + 40.705133 * location_BEL Layout + 79.970501 * location_BEL Road + -2.434470 * location_BEML Layout + -16.895158 * location_BEML Layout 5th stage + 47.220705 * location_BHEL Layout + -13.877120 * location_BSM Extension + 64.786856 * location_BTM 1st Stage + 19.169474 * location_BTM 2nd Stage + 14.517417 * location_BTM 4th Stage + 13.258487 * location_BTM Layout + -2.990265 * location_Baba Nagar + -13.170432 * location_Babusapalaya + 18.868483 * location_Badavala Nagar + 21.809060 * location_Badrappa Layout + 31.387044 * location_Bagalakunte + 1.400576 * location_Bagalur + 4.780579 * location_Bagalur Main Road + 25.965893 * location_Bahubali Nagar + 11.466641 * location_Balagere + -14.071576 * location_Balaji Gardens Layout + 30.969543 * location_Banagiri Nagar + 54.239546 * location_Banagirinagar + 46.608179 * location_Banasawadi,  + 8.269637 * location_Banashankari + 15.906373 * location_Banashankari 2 nd Stage + 8.513834 * location_Banashankari 2nd Stage + 6.608670 * location_Banashankari 3rd stage, Vivekanandanagar + 109559544508.330322 * location_Banashankari 6th Stage + 5.553698 * location_Banashankari 6th Stage ,Subramanyapura + 13.392594 * location_Banashankari 6th stage , 2nd block + 15.048191 * location_Banashankari Stage I + 45.889913 * location_Banashankari Stage II + 19.475155 * location_Banashankari Stage III + -28.807169 * location_Banashankari Stage V + 5.602961 * location_Banashankari Stage VI + 21.244809 * location_Banashankari stage 2 + 27.716123 * location_Banashankari3rd stage bigbazar + 3.034624 * location_Banaswadi + 61.625603 * location_Banaswadi,  + 0.141982 * location_Bande Nallasandra + -10.287836 * location_Bandepalya + 0.148215 * location_Banjara Layout + -51495292459.672356 * location_Bank Avenue + 34.000050 * location_Bank Of Baroda Colony + 5.461705 * location_Bannerghatta + 0.864833 * location_Bannerghatta Road + 38.683520 * location_Bapuji Nagar + -7.797149 * location_Basapura + -1.564435 * location_Basava Nagar + -33.944169 * location_Basavanagara + 0.726709 * location_Basavanapura + 55.152157 * location_Basavangudi + -0.865147 * location_Basavanna Nagar + 45.325449 * location_Basaveshwara Nagar + -11.405966 * location_Basaveshwara Nagar Yelahanka + -33168682455.803131 * location_Basnashankari,6th stage, + 76.953143 * location_Basvasamithi Layout Vidyaranyapura + -3.800371 * location_Battarahalli + -12.871597 * location_Begur + -15.286854 * location_Begur Road + 2.529834 * location_Behind Don Bosco Church + -14.843631 * location_Belathur + -7.500098 * location_Belatur + 2.313675 * location_Bellandur + 53.649594 * location_Bellandur,  + -11.508188 * location_Bellari Road + 10.112542 * location_Bendiganahalli + 41.997435 * location_Bennigana Halli + 40.673105 * location_Benson Town + -3.545842 * location_Bethel Nagar + 1.219866 * location_Bettahalsoor + 1.361956 * location_Bhagyalakshmi Avenue + 72.874771 * location_Bharat Nagar + 3.666484 * location_Bharathi Nagar + 58.828783 * location_Bharathnagar + 1088385746.631536 * location_Bhattarahalli + 5.758553 * location_Bhoganhalli + 47.094646 * location_Bhoopsandra + -5.027352 * location_Bhuvaneshwari Nagar + 22.452129 * location_Bhuvaneswari Nagar + 8.829027 * location_Bidadi + -13.618608 * location_Bidere Agarahara, Behind Safal market + 1.478377 * location_Bidrahalli + -10.473954 * location_Bikasipura + -9.630333 * location_Bilal Nagar + -0.472288 * location_Billamaranahalli + 11.176205 * location_Billapura + 19.598674 * location_Billekahalli + 54.069229 * location_Binny Pete + -18.437306 * location_Bisuvanahalli + -11.273924 * location_Bommanahalli + -19.242840 * location_Bommasandra + -30.048427 * location_Bommasandra Industrial Area + 31.828950 * location_Bommenahalli + 170.760565 * location_Brigade Road + 16.991347 * location_Brindavan Layout + 34.953180 * location_Brindavan Nagar + 0.156203 * location_Brooke Bond First Cross + 10.056867 * location_Brookefield + -2.396131 * location_Budigere + 68.752394 * location_Bull Temple Road + -23.693658 * location_Byagadadhenahalli + 52.954925 * location_Byatarayanapura + -2.188197 * location_Byrasandra + 32822953991.560532 * location_Byrasandra Extension + -22.928568 * location_Byrathi Village + 10.118926 * location_CHIKKATIRUPATHI + 76.219926 * location_CQAL LAYOUT C BLOCK + 9.571517 * location_CQAL Layout + 9.689360 * location_CV Raman Nagar + 47.162306 * location_Cambridge  road + 68.255237 * location_Cambridge Layout + -1.426303 * location_Canara Bank Colony + 12.557891 * location_Canara Bank Layout + -7.217416 * location_Carmelaram + -4.781589 * location_Celebrity Paradise Layout + 31.872307 * location_Challaghatta + -7.154233 * location_Chambenahalli + 46.458784 * location_Chamrajpet + 24.111895 * location_Chamundi Nagar + -20.522395 * location_Chandapura + 57.292872 * location_Chandra Layout + -19.218680 * location_Channasandra + -8.879686 * location_Channasandra Layout + -9.225879 * location_Chelekare + -10.291387 * location_Chellikere + -0.696494 * location_Chennammana Kere + 13.468370 * location_Chennammanakere Achukattu + -12.766537 * location_Chennappa Layout + 0.536894 * location_Chikbasavanapura + 2.472263 * location_Chikka Banaswadi + -11.948199 * location_Chikka Tirupathi + 11.226351 * location_Chikkaballapur + -15.501638 * location_Chikkabanavar + 40.701574 * location_Chikkabettahalli + -26.313704 * location_Chikkadunnasandra + 20.902562 * location_Chikkajala + 7.478452 * location_Chikkakannalli + -9.520601 * location_Chikkalasandra + -3.426388 * location_Chikkanahalli + 27.783131 * location_Chikkasandra + -6.402696 * location_Chikkathoguru + -9.865409 * location_Chinnapanahalli + -13.002579 * location_Chokkahalli + -1.099800 * location_Chokkanahalli + 651794429.246667 * location_Chokkasandra + 38.607024 * location_Cholanayakanahalli + 0.340505 * location_Choodasandra + 12.262689 * location_Chowdeshwari Layout + -39.874039 * location_Chuchangatta Colony + -9.822155 * location_Ckikkakammana Halli + -6.222838 * location_Classic Paradise Layout + 42.816981 * location_Cleveland Town + 2.327350 * location_Coconut Garden + -9.029242 * location_Coconut Grove Layout + 12.885423 * location_Coffee Board Layout + 43.195636 * location_Cooke Town + 84.277588 * location_Cottonpet + 43.780483 * location_Cox Town + 94.690229 * location_Craig Park Layout + -1.497159 * location_Crimson Layout + 21632073589.416542 * location_D Group Employees Layout + -18.317074 * location_DUO Layout + -40.647825 * location_Daadys Gaarden Layout + 102.951512 * location_Dairy Circle + -5.857463 * location_Dasanapura + -7.362113 * location_Dasappa Layout + 9.664614 * location_Dasarahalli + 65.445183 * location_Deepanjali Nagar + 67.718672 * location_Defence Colony + 46.219959 * location_Defence Layout + 7.004803 * location_Dena Bank Colony + 5.897129 * location_Devanahalli + 15.584958 * location_Devanahalli Int. Airport + 2.457476 * location_Devanahalli Road + -46.187649 * location_Devara Jeevanahalli + 9734781311.626366 * location_Devarabeesana Halli + 18.520700 * location_Devarabisanahalli + -0.577222 * location_Devarachikkanahalli + -24.339440 * location_Devasandra Extension + -9.781890 * location_Devasthanagalu + 1.630193 * location_Devi Nagar + 1.205938 * location_Dinnur + -10.044705 * location_Divya Unnathi Layout + 27613493778.867268 * location_Doctor Layout Rayasandra + -10.997559 * location_Doctors Layout + -6.049542 * location_Dodda Banaswadi + -17.283864 * location_Dodda Kempaiah Layout + -2.950895 * location_Dodda Nekkundi + 10.426256 * location_Dodda Nekkundi Extension + 18.617526 * location_Doddaballapur + -20.392649 * location_Doddabanahalli + -13.277306 * location_Doddabele + -19.881506 * location_Doddabidrakallu + 0.266429 * location_Doddabommasandra + -17.294137 * location_Doddagubbi + -14.802543 * location_Doddakallasandra + -5.947104 * location_Doddakammanahalli + -8.229970 * location_Doddakannelli + -6.791841 * location_Doddanakundi Industrial Area 2 + 12.845305 * location_Doddanekundi + -18.346366 * location_Doddathoguru + 13.215877 * location_Dodsworth Layout + -13.491726 * location_Dollars Colony + 53.667962 * location_Dollars Layout + -42.597868 * location_Dominic Layout + 50.248685 * location_Domlur + 103.165393 * location_Domlur Layout + -23.795737 * location_Dommasandra + 47.680054 * location_Doopanahalli + 30.442249 * location_Dooravani Nagar + 34.147043 * location_Double Road + -7.417324 * location_Dr Shivarama Karantha Nagar + -21.792415 * location_Duddanahalli + -11.249662 * location_Duvasapalya + -17.938733 * location_Dwaraka Nagar + 14.184807 * location_Dwarka Nagar + 1.316813 * location_ECC Road, Whitefield,  + 41.886466 * location_EPIP AREA, WHITEFIELD + 24.454511 * location_EPIP Zone + 12.980953 * location_Ejipura + -8.618519 * location_Electronic City + -39.881070 * location_Electronic City Phase 1,  + -19.244529 * location_Electronic City Phase II + -29.485438 * location_Electronic city Phase 1,  + -19.888558 * location_Electronic city phase 1,  + -5.517603 * location_Electronics City Phase 1 + 7.845035 * location_Esther Enclave Layout + 38.699820 * location_Ferrar Nagar + 34.349168 * location_Fraser town + 61.111235 * location_Frazer Town + -11.017893 * location_Friends Colony + -8.602371 * location_GB Palya + -13.542982 * location_GD Layout + -9.189610 * location_GM Palaya + 38.830932 * location_Gandhi Bazar + -30.311895 * location_Gandhi Nagar + 21.777642 * location_Ganesha Block + -2.944505 * location_Ganga Nagar + 3.269712 * location_Ganga Nagar Extension + -14.973375 * location_Ganganahalli + 0.000001 * location_Gangondanahalli + 4.795935 * location_Garden Layout + 14.910037 * location_Garebhavipalya + 0.624129 * location_Garudachar Palya + -1.535042 * location_Gattahalli + 4.498027 * location_Gattigere + -8.417191 * location_Gaundanapalya + -0.000005 * location_Gaurava Nagar + 53.735756 * location_Gayathri Nagar + -12.283516 * location_Geddalahalli + -4.831750 * location_Geleyara Balaga Layout + 0.162239 * location_Gidada Konnenahalli + 60.455643 * location_Giri Nagar + 51.870279 * location_Gkvk Layout + -22.442338 * location_Glass Factory Layout + 16.255654 * location_Gokaula Extension + 29.794271 * location_Gokula Extension + -15.571262 * location_Gollahalli + -37.428926 * location_Gollarahatti + -19.860006 * location_Gollarapalya Hosahalli + -30.405370 * location_Gopal Reddy Layout + 92.301470 * location_Gopalapura + 7.636931 * location_Gopalkrishna Nagar + 42.529834 * location_Goraguntepalya + -9.667899 * location_Gottigere + 9.537922 * location_Govindapura + -5.332413 * location_Govindaraja Nagar Ward + -8.693016 * location_Govindpura + -4.631306 * location_Govindraja Nagar + 13.072111 * location_Gowdanapalya + 14.095216 * location_Green Domain Layout + -19.781200 * location_Green Garden Layout + 17.886567 * location_Green Glen Layout + -14.061259 * location_Green View Layout + -0.108656 * location_Green Woods Layout + 1.356710 * location_Gubbalala + 6.498027 * location_Guddadahalli + -7.875100 * location_Gulakamale + -28.057648 * location_Gulimangala + 54.571517 * location_Guni Agrahara + -12.297938 * location_Gunjur + -15.636665 * location_Gunjur Palya + 57.399328 * location_HAL 2nd Stage + -9.982534 * location_HAL 3rd Stage + -29.085988 * location_HAL Layout + 31.543149 * location_HBR Layout + -8.592630 * location_HMT Layout + -26.289547 * location_HOSUR MAIN ROAD + 0.000000 * location_HOSUR RMAIN ROAD + 27.965773 * location_HRBR Layout + -1.998837 * location_HSR Layout + 53.180472 * location_HSR Layout 7th sector,  + 82.327365 * location_Hadosiddapura + -9.083495 * location_Hagadur + 27.327364 * location_Hal old airport road + -0.000000 * location_Halanayakanahalli + -42.804421 * location_Hallehalli + -38.281673 * location_Handenahalli + -0.000000 * location_Hanumagiri + 4.374849 * location_Hanuman Nagar + -5.521832 * location_Hanumanth Nagar + 100.336176 * location_Hanumantha Nagar + 0.144158 * location_Haralur Road + 50.177412 * location_Haralur Road,  + -3.786586 * location_Harappanahalli + 17.227999 * location_Harlur + -9.505485 * location_Harohalli + -3.416913 * location_Harsha Layout + 20.658796 * location_Hebbal + 65.012296 * location_Hebbal Kempapura + 16.367571 * location_Hegde Nagar + 4.113816 * location_Hegganahalli + -23.031362 * location_Hennagara + -2.273186 * location_Hennur + 6.577231 * location_Hennur Bande + 5.012848 * location_Hennur Busstop + 32.729449 * location_Hennur Gardens + 8.301083 * location_Hennur Road + 17.905579 * location_Herohalli + -13.449540 * location_Hessarghatta + 107.751837 * location_High grounds + 70.416747 * location_Himagiri Meadows + -0.075959 * location_Hiremath Layout + -3.530288 * location_Hommadevanahalli + -12.993862 * location_Hongasandra + 8.341224 * location_Hoodi + -4.131556 * location_Hoodi Circle,  + 0.000000 * location_Hoodi Layout + -13.848499 * location_Horamavu Agara + -10.776248 * location_Horamavu Banaswadi + -3.751807 * location_Hormavu + -0.665782 * location_Hosa Road + -16.877552 * location_Hosahalli + 32.410747 * location_Hosahalli Extension + 17.475810 * location_Hosakerehalli + 9.008266 * location_Hosakerehalli Layout + 31.337274 * location_Hosapalya + -19.743947 * location_Hoskote + -15.065663 * location_Hoskote near + 12.271970 * location_Hosur Road + -2.705526 * location_Howthinarayanappa Garden + -15.925707 * location_Hoysalanagar + 12.209394 * location_Hulimavu + -29.148398 * location_Huskur + 24.027411 * location_ISRO Layout + 12.186075 * location_ITI Layout + -19.073590 * location_ITPL + 49.493758 * location_Iblur Village + -22.621810 * location_Iggalur + -25.261727 * location_Ilyas Nagar + 11.650549 * location_Immadihalli + 67.048295 * location_Indira Nagar + 103.352182 * location_Indira Nagar 3rd Stage + 36.006149 * location_Indira Nagar Stage 2 + 5.121827 * location_Ittamadu + -24.374342 * location_J C Nagar + -0.000000 * location_J.P.nagar 6th Phase.Sarakki Nagar + -17.493212 * location_JCR Layout + 11.590834 * location_JP Nagar + 15.111444 * location_JP Nagar 7th Phase,  + -0.000000 * location_JP Nagar 8th Phase,  + -18.625943 * location_JP nagar 9th Phase,  + 16.204068 * location_Jagadish Nagar + -1.076513 * location_Jagajyothi layout + -4.619526 * location_Jai Bheema Nagar + 9.716118 * location_Jakkasandra + 6.675209 * location_Jakkasandra Extension + 16.183880 * location_Jakkur + 15.517916 * location_Jakkur Plantation + -0.000000 * location_JakkurYelahanka + -3.025253 * location_Jakkuru Layout + -6.176909 * location_Jaladarsini Layout + 19.770957 * location_Jalahalli + -10.700433 * location_Jalahalli East + -0.507596 * location_Jalahalli West + -15.636222 * location_Janatha Colony + -25.838435 * location_Jaraganahalli Jp Nagar Post + 16.863658 * location_Javarandoddi + 24.449920 * location_Jay an agar 4 T Block + 82.622143 * location_Jaya Mahal layout + 10.510738 * location_Jayamahal + 64.137619 * location_Jayanagar + 65.435599 * location_Jayanagar,  + -9.680692 * location_Jayanti Nagar + 33.634059 * location_Jeevan bima nagar + -36.874432 * location_Jeevanhalli + -6.133415 * location_Jigani + 29.322770 * location_Jinkethimmanahalli + 10.089990 * location_Jnana Ganga Nagar + 19.199563 * location_Jnanabharathi Layout + 31.803065 * location_Jogupalya + 22.666585 * location_Judicial Layout + -18.325683 * location_Judicial Layout, Kanakapura Road,  + -17.236154 * location_Jyothi Nagar + -0.000000 * location_K R C kothanur + 41.514713 * location_KAMAKIYA + -18.298036 * location_KEB Colony + 0.000000 * location_KG Halli + 4.565097 * location_KHB Colony Extension + 2.777187 * location_KPC Layout + 10.123402 * location_KR Garden + 0.837174 * location_KR Layout + -6.624408 * location_KR Puram + -5.280874 * location_KSRTC Layout + -31.304901 * location_KUDLU MAIN ROAD + -12.181151 * location_Kachanayakanahalli + -1.133906 * location_Kacharakanahalli + -31.837643 * location_Kada Agrahara + -19.468480 * location_Kadabagere + 16.715201 * location_Kadarenahalli + 10.138079 * location_Kadubeesanahalli + 7.854041 * location_Kadugodi + -17.532137 * location_Kadugondanahalli + -12.272016 * location_Kaggadasapura + 5.508217 * location_Kaggalipura + 4.728234 * location_Kaikondrahalli + 2.486311 * location_Kalena Agrahara + 71.076296 * location_Kalhalli + -8.902867 * location_Kalkere + -0.000000 * location_Kalkere Channasandra + -2.051566 * location_Kallumantapa + 5.052327 * location_Kalyan nagar + 21.208654 * location_Kamakshipalya + 39.979074 * location_Kamakya Layout + 10.130113 * location_Kamala Nagar + -12.650979 * location_Kambipura + -9.284340 * location_Kamdhenu Nagar + 4.421003 * location_Kammagondahalli + 16.938320 * location_Kammanahalli + -20.372431 * location_Kammasandra + 0.352375 * location_Kanaka Nagar + 4.773988 * location_Kanakadasa Layout + -11.737616 * location_Kanakapur main road + -4.796383 * location_Kanakapura + -0.000000 * location_Kanakapura  Rod + -19.406589 * location_Kanakapura Main Road + 29.306276 * location_Kanakapura Road + 0.000000 * location_Kanakapura Road,  + -20.186775 * location_Kanakapura main  Road + -3.335323 * location_Kanakpura Road + 8.680864 * location_Kannamangala + -11.535911 * location_Kannur + -6.535762 * location_Kariyammana Agrahara + 58.800899 * location_Karuna Nagar + 7.278597 * location_Kasavanhalli + -20.935404 * location_Kashi Nagar + 9.485732 * location_Kasturi Nagar + 3.955384 * location_Kathriguppe + 37.995276 * location_Kathriguppe IV Phase + 0.626736 * location_Kattigenahalli + -4.634386 * location_Kaval Byrasandra + 14.208993 * location_Kaverappa Layout + 64.210071 * location_Kaveri Nagar + 0.000000 * location_Kavika Layout + -23.890725 * location_Keerthi Layout + -11.563038 * location_Kempapura + 1.078692 * location_Kempegowda Nagar + -25.354387 * location_Kenchanehalli R R Nagar + 3.924276 * location_Kenchenahalli + -16.852292 * location_Kenchenhalli + -10.574817 * location_Kengeri + -3.455229 * location_Kengeri Hobli + -8.143802 * location_Kengeri Satellite Town + 72.162739 * location_Kengeri Satellite Town ( BDA SITE) + -18.025667 * location_Kengeri Satellite Town KHB Apartment + 0.419821 * location_Kengeri Satellite Town Stage II + -27.076582 * location_Kereguddadahalli + 55.936882 * location_Keshava Nagar + -32.178021 * location_Kirloskar Layout + -10.589962 * location_Kirloskar layout, Basaveshwarnagar + -17.048411 * location_Kithaganur + 28.518586 * location_Kodanda Reddy Layout + -19.484930 * location_Kodathi + 10.560657 * location_Kodbisanhalli + -8.329978 * location_Kodichikkanahalli + -0.041111 * location_Kodigehaali + 15.071886 * location_Kodigehalli + 42.297703 * location_Kodihalli + -13.477035 * location_Kodipalya + 0.489427 * location_Kogilu + 30.365607 * location_Konanakunte + 31.498539 * location_Konanakunte Cross + -14.226029 * location_Konappana Agrahara + -2.685483 * location_Konena Agrahara + -0.000000 * location_Koppa + 52.532415 * location_Koramangala + -18.626173 * location_Kothannur + -0.366471 * location_Kothanur + -21.281415 * location_Kothnoor Dinne + 31.384227 * location_Kothnur Narayanapura + 19.101428 * location_Krishna Nagar + -29.981470 * location_Krishna Reddy Layout + -4.976561 * location_Kudlu + -2.717449 * location_Kudlu Gate + -24.559523 * location_Kudlu Village,  + 1.835422 * location_Kullappa Colony + 61.114791 * location_Kumara Park + -8.308476 * location_Kumarapalli + 7.822872 * location_Kumaraswami Layout + -28.916108 * location_Kumbalgodu + -6.876142 * location_Kumbena Agrahara + 18.331625 * location_Kundalahalli + 13.807600 * location_Kundalahalli Colony + -4.940113 * location_Kurubarahalli + 36.055096 * location_Kuvempu Layout + 15.494719 * location_Kuvempu Nagar + 10.536339 * location_Kyalasanahalli + -3.010276 * location_LB Shastri Nagar + 54.910036 * location_LIC Colony + 38.130470 * location_Laggere + -13.152815 * location_Lake City + 31.654594 * location_Lakshmi Layout + 0.000000 * location_Lakshmiamma Garden + 27.096753 * location_Lakshminarayana Pura + -51.192662 * location_Lakshminarayanapura, Electronic City Phase 2 + 8.502214 * location_Lakshmipura + -3.824291 * location_Lal Bahadur Shastri Nagar + 61.242468 * location_Langford Town + -16.682833 * location_Lavakusha Nagar + 97.342254 * location_Lavelle Road + 59.025717 * location_Laxmi Sagar Layout + 46.654619 * location_Laxminarayana Layout + 17.175058 * location_Lingadheeranahalli + 2.974170 * location_Lingarajapuram + -10.693725 * location_Lottegolla Halli + 137.601201 * location_M.G Road + -12.500177 * location_MCECHS  layout + 22.356661 * location_MEI layout, Bagalgunte + -20.485746 * location_MLA Layout + -0.000000 * location_MM Layout + 30.126290 * location_MRCR Layout + -17.938050 * location_MS Pallya + -0.000000 * location_Madanayakahalli + -20.284340 * location_Madavara + 3.769219 * location_Madiwala + 1.768474 * location_Magadi Road + -3.633240 * location_Mahadevpura + 6.525140 * location_Mahaganapathy Nagar + 33.926387 * location_Mahalakshmi Layout + 32.413706 * location_Mahalakshmi Puram + 5.823090 * location_Maheswari Nagar + -11.600312 * location_Mailasandra + -22.489564 * location_Maithri Layout + -4.400315 * location_Makali + -14.118594 * location_Malimakanapura + -14.881071 * location_Mallappa Layout + -2.921186 * location_Mallasandra + 0.075971 * location_Mallathahalli + -0.705998 * location_Malleshpalya + 45.146913 * location_Malleshwaram + -56.592189 * location_Malur Hosur Road + -2.576483 * location_Manayata Tech Park + -22.606215 * location_Mangammanapalya + 28.441250 * location_Mango Garden Layout + 26.422403 * location_Manjunath Nagar + 66.017466 * location_Manjunatha Layout + 0.000000 * location_Manonarayanapalya + 23.671201 * location_Manorayana Palya + -8.958505 * location_Maragondana Halli, kr puram, old madras road + -9.169200 * location_Maragondanahalli + -18.113784 * location_Marasandra + 8.675779 * location_Marathahalli + 35.123749 * location_Marenahalli + 2.602748 * location_Margondanahalli + -7.924100 * location_Mariyannapalya + 1.249502 * location_Marsur + 47.968822 * location_Maruthi Extension + -43.266608 * location_Maruthi HBCS Layout + -11.265977 * location_Maruthi Layout + -17.316208 * location_Maruthi Nagar + 52.503275 * location_Maruthi Sevanagar + 0.000000 * location_Maruthi nagar kogilu + -44.707678 * location_Masjid e Alkareem + 44.045260 * location_Mathikere + 37.019790 * location_Mathikere Extension + -0.000000 * location_Mathikere SBM colony + -14.637779 * location_Medahalli + -26.930213 * location_Medaralli + -24.966953 * location_Medi Agrahara + -0.000000 * location_Michael Palaya + -12.666631 * location_Mico Layout + 29.745531 * location_Moodalapalya + -8.441379 * location_Motappa Layout + 39.349588 * location_Mudalpalaya + -10.595943 * location_Muneshwara Nagar + 99.562245 * location_Munivenkatppa Layout + -6.367346 * location_Munnekollal + -4.612647 * location_Murugeshpalya + 58.637264 * location_Muthyala Nagar + 8.142742 * location_Mylasandra + -1.366795 * location_Mysore Road + 27.600772 * location_N R Layout + -5.755850 * location_NGR Layout + -16.868252 * location_NR Colony + -0.505890 * location_NRI Layout + 47.298431 * location_NS Palya + 0.000000 * location_NTI Layout + -2.551764 * location_Nagadevanahalli + 5.653155 * location_Naganathapura + -5.371011 * location_Nagappa Reddy Layout + 13.410661 * location_Nagaraja Garden + 17.836438 * location_Nagarbhavi + 32.880957 * location_Nagarbhavi  BDA Complex + 89.773987 * location_Nagarbhavi Garden Villas Layout + 2.047566 * location_Nagasandra + 14.061259 * location_Nagashetty Halli + 1.039575 * location_Nagavara + 27.321887 * location_Nagavarapalya + 28.743737 * location_Nagawara Junction + -23.554288 * location_Nagondanahalli + -8.398823 * location_Naidu Layout + 0.135979 * location_Nallurhalli + 45.581033 * location_Nandi Hills + 23.705895 * location_Nandini Layout + -4.677209 * location_Nanjappa Garden + 11.219505 * location_Nanjappa Layout + 2.191318 * location_Nanjappa Layout Vidyaranyapura + -3.985503 * location_Narayana Nagar 1st Block + 0.000000 * location_Narayanappa Garden + 17.317600 * location_Narayanapura + 84.435471 * location_Navodaya Nagar + 2.528159 * location_Nayandanahalli + 12.582508 * location_Ncpr Industrial Layout + 7.399314 * location_Near International Airport + 105.507684 * location_Near ullas theater + -6.294872 * location_Neeladri Nagar + -10.284341 * location_Neelamangala + 56.215674 * location_Neelasandra + -4.187606 * location_Nehru Nagar + -26.021041 * location_Nelamangala + -43.874042 * location_New Gurappana Palya + 39.955593 * location_New Thippasandra + -8.910385 * location_Ngef Layout + -11.953959 * location_Nirman Layout + -0.000000 * location_Nobo Nagar + -7.178084 * location_Nyanappana Halli + 4.258597 * location_OLd Gurappanapalya + 26.534880 * location_OMBR Layout + -6.365144 * location_Off Bannergatta Road + -13.802863 * location_Off Bannergatta road + 4.694206 * location_Off Sarjapur Road,  + -0.000000 * location_Okalipura + 42.267480 * location_Old Airport Road + 9.753697 * location_Old Madras Road + -7.973028 * location_Old Mangammanapalya Road + -21.535451 * location_Omkar Nagar + 3.398307 * location_Outer Ring Road East + 0.000000 * location_P Krishnappa Layout + 1.144498 * location_P&T Colony + -13.671019 * location_P&T Layout + 0.000000 * location_PC Palaya + 7.941847 * location_PNS Layout + 20.802687 * location_Padmanabhanagar + 0.203392 * location_Pai Layout + 0.000000 * location_Pai layout , Mahadevapura + 42.734534 * location_Palace Guttahalli + 73.485050 * location_Palace Road + 6.518519 * location_Pampa Extension + 9.783223 * location_Panathur + 21.836132 * location_Panathur Road,  + -0.687611 * location_Panduranga Nagar + 44.191360 * location_Papareddipalya + -10.445090 * location_Parappana Agrahara + 0.000000 * location_Park View Layout + 1.910034 * location_Patelappa Layout + -9.748249 * location_Pattanagere + -0.223825 * location_Pattandur Agrahara + 2.559560 * location_Peenya + -29.185958 * location_Phase 1 Kammasandra + -7.227535 * location_Pillanna Gardens + -12.760079 * location_Poorna Pragna Layout + -7.891068 * location_Poornapragna Housing Society Layout + -0.000000 * location_Popular Colony + 146.546650 * location_Postal Colony + -17.371038 * location_Pragathi Nagar + -0.000000 * location_Prakash Nagar + 0.056341 * location_Prakruthi Nagar + 0.000000 * location_Prasanth Extension + 82.529835 * location_Prasanti Nagar + 50.695636 * location_Prashanth Nagar + 0.000000 * location_Prestige Sunrise + 42.460024 * location_Prithvi Layout + 65.397918 * location_Pulkeshi Nagar + -14.179005 * location_Punappa Layout + -15.577572 * location_Puttanahalli + 79.186743 * location_Queens Road + 7.455191 * location_R.T. Nagar + -0.000000 * location_RBI Layout + 13.272925 * location_RK Layout 2nd Stage + 0.000000 * location_RMC YARD + 70.195333 * location_RMV + 74.055045 * location_RMV 2nd Stage + -10.061551 * location_RMV Extension + 22.528183 * location_RMV Extension Stage 2 + 11.420277 * location_RPC layout + 0.000000 * location_RR Layout + -0.000000 * location_RR Nagar + 29.838604 * location_RTO ullalu + -2.530034 * location_RWF West Colony + 1.419034 * location_Rachenahalli + -3.612884 * location_Raghavendra Layout + -10.111832 * location_Raghavendra Nagar + -5.105214 * location_Raghuvanahalli + 10.521743 * location_Rahmath Nagar + 48.118929 * location_Rainbow Drive + -25.354386 * location_Raja Rajashweri Nagar + -10.948698 * location_Raja Rajeshwari Nagar + -5.023783 * location_Raja Rajeshwari Nagar 5th Stage + -9.770110 * location_Raja Rajeshwari Nagara + 0.000000 * location_Rajagopala Nagar + 63.911811 * location_Rajaji Nagar + -0.000000 * location_Rajankunte + -20.471603 * location_Rajanna Layout + -6.391773 * location_Rajapura + -20.095586 * location_Rajarajesheari nagar + -16.895127 * location_Rajarajeshwari Nagara + -25.354384 * location_Rajarajeshwari nagar + -16.895129 * location_Rajarajeshwarinagar + -5.529841 * location_Rajasree Layout + 5.395361 * location_Rajiv Gandhi Nagar + 20.768344 * location_Rajiv Nagar + 6.302960 * location_Ramagondanahalli + 118.809032 * location_Ramakrishnappa Layout + 1.980369 * location_Ramamurthy Nagar + -25.189450 * location_Ramamurthy Nagar Extension + 2.018135 * location_Ramanagara Channapatna + 2.020984 * location_Ramanashree Enclave + -10.621428 * location_Ramanjaneyanagar + 0.000000 * location_Ramaswamy Palya - Kammanahalli Main Road + -8.183946 * location_Ramchandrapuram + 57.063911 * location_Ramesh Nagar + -1.895131 * location_Rammana Layout + -13.368526 * location_Rayasandra + -11.233438 * location_Reliaable Tranquil Layout + -9.975461 * location_Reliable Woods Layout + 31.810455 * location_Remco Bhel Layout + 36.950684 * location_Richards Town + 56.219701 * location_Richmond Town + 4.888776 * location_Roopena Agrahara + -7.545429 * location_Rukmaiah Layout + 30.176594 * location_Rustam Bagh Layout + -8.483608 * location_S R Layout + -262.008614 * location_SARJAPUR BAGALUR ROAD + 4.011499 * location_SHANTHINAGAR + 55.156385 * location_SK Garden + 38.944168 * location_SMV layout + -16.172929 * location_SRINIVASAPURA + 0.724857 * location_Sabari Nagar + 82.392614 * location_Sadanand Nagar + -5.034342 * location_Sadaramangala + 16.017465 * location_Sadduguntepalya + -14.054074 * location_Sadhguru Layout + 19.809583 * location_Sahakara Nagar + 83.004471 * location_Sahyadri Layout + -10.018466 * location_Sai Gardens + -17.868656 * location_Samethanahalli + 61.644231 * location_Sampangi Rama Nagar + 28.254234 * location_Sampige Layout + -8.090809 * location_Sampigehalli + 28.383757 * location_Sanjay nagar + -11.430227 * location_Sanne Amanikere + -12.579724 * location_Saptagiri Layout + 42.601452 * location_Sarakki Nagar + -13.936808 * location_Sarjapur + 7.506239 * location_Sarjapur  Road + 13.339775 * location_Sarjapur Road,  + -23.302971 * location_Sarjapura - Attibele Road + -5.683862 * location_Sarvabhouma Nagar + 48.144352 * location_Sarvobhogam Nagar + 33.372279 * location_Sathanur + 10.482091 * location_Sathya Layout + -0.000000 * location_Satyasaibaba Layout + 33.421014 * location_Sector 1 HSR Layout + 21.527266 * location_Sector 2 HSR Layout + 50.835095 * location_Sector 7 HSR Layout + -10.523966 * location_Seegehalli + -9.680120 * location_Seethappa Layout + -2.537513 * location_Seetharampalya + 26.069483 * location_Seshadripuram + -21.180425 * location_Shakthi Nagar + -6.354550 * location_Shampura + 93.255192 * location_Shankarapuram + 87.716118 * location_Shanthala Nagar + -14.335237 * location_Shanthi Layout + -18.478715 * location_Shanthi Pura + 67.271149 * location_Shanti Nagar + -2.994169 * location_Shantiniketan Layout + 0.000000 * location_Shauhardha Layout + 16.799763 * location_Shettigere + -39.095471 * location_Shettihalli + 6.318817 * location_Shetty Halli + -18.244610 * location_Shikaripalya + -10.606602 * location_Shingapura + -1.252133 * location_Shirdi Sai Layout + 0.112505 * location_Shirdi Sai Nagar + 26.816617 * location_Shivaji Nagar + 50.889516 * location_Shivanagar + -14.951478 * location_Shree Ananth Nagar Layout + 6.062810 * location_Siddapura + -18.401604 * location_Sidedahalli + -14.408629 * location_Silk Board + -11.628424 * location_Silver Springs Layout + -9.851776 * location_Singanayakanahalli + -11.536156 * location_Singapura Village + -3.233960 * location_Singasandra + 29.065345 * location_Singena Agrahara + 19.044858 * location_Sneha Colony + 50.033048 * location_Somanna Garden + -4.367827 * location_Somasundara Palya + 63.744694 * location_Someshwara Layout + -21.859169 * location_Sompura + -3.001670 * location_Sonam Layout + -5.845115 * location_Sonnenahalli + 2.536446 * location_Soppahalli + -22.994958 * location_Soundarya Layout + -35.361648 * location_Sree Narayana Nagar + 8.909577 * location_Sri Balaji Krupa Layout + 115.112510 * location_Sri Kanteshwara Nagar + -19.176910 * location_Sri Sai Layout + -13.639128 * location_Sri Venkateshpura Layout + -8.197393 * location_Srigandada Kaval + 38.891785 * location_Srinagar + -3.451496 * location_Srinivasa Nagar + 5.075161 * location_Srirampura + -1.636371 * location_Srirampuram + -18.416128 * location_St Thomas Town + -0.000000 * location_St. John's Road + -15.094626 * location_Stage-4 Bommanahalli + 1.011041 * location_Subash Nagar + 23.190184 * location_Subbannaiah Palya + 2.529835 * location_Subhash Nagar + 122.250261 * location_Subramanya Nagar + -2.302568 * location_Subramanyapura + -22.073588 * location_Suddaguntepalya + -13.996020 * location_Sugama Layout + 5.911407 * location_Sultan Palaya + 26.909577 * location_Sulthangunta + 16.474024 * location_Sundar Ram Shetty Nagar + 57.118472 * location_Sundara Nagar + 24.784676 * location_Sunder Ram Shetty Nagar + -0.837933 * location_Sunkadakatte + -15.422860 * location_Sunkan palya + -5.020951 * location_Surabhi Layout + -10.672634 * location_Suragajakkanahalli + -29.881283 * location_Suraksha Nagar + 0.000000 * location_Suryanagar + -16.672632 * location_Syndicate Bank Colony + -10.769262 * location_T C Palya main Road + 26.773925 * location_T Dasarahalli + 0.000000 * location_T G extension + -18.775759 * location_T K Reddy Layout + 15.970815 * location_T R Mill Road + 10.148225 * location_T c palya + 3.802607 * location_T.C PALYA + -1.346857 * location_TC Palaya + 20.618168 * location_TR Mill Road, Chamarajpet + 21.530218 * location_Tala Cauvery Layout + 9.774764 * location_Talaghattapura + 23.921433 * location_Tasker Town + -13.890522 * location_Tata Nagar + -39.517414 * location_Tavarekere + -11.491710 * location_Teachers Colony + -5.463003 * location_Tejaswini Nagar + -0.826230 * location_Telecom Layout + 3.648493 * location_Thanisandra + 33.803837 * location_Thanisandra Main Road,  + 32.894002 * location_Thigalarapalya + 5.587890 * location_Thippasandra + -22.674506 * location_Thirumalashettyhally + 3.593457 * location_Thirumenahalli + 9.114957 * location_Thirupalya + 7.256471 * location_Thubarahalli + -9.701747 * location_Thurahalli + 21.248816 * location_Thyagaraja Nagar + 27.777788 * location_Thyagraj Nagar + 15.152928 * location_Tigalarpalya + 10.290129 * location_Tilak Nagar + -0.735045 * location_Tindlu + -6.197391 * location_Tippenahalli + -12.912149 * location_Tirumanahalli + 6.076889 * location_Tumkur Road + -22.217151 * location_Tunganagara + 0.000000 * location_Uday Nagar + 5.032002 * location_Udaya Nagar + -4.106933 * location_Udayagiri + -7.760717 * location_Udayapur Village + 30.775405 * location_Ullal Road + 20.802606 * location_Ullal Uppanagar + 41.027632 * location_Ulsoor + -8.384292 * location_Upadhyaya Layout + 24.335328 * location_Upkar Layout + -11.358387 * location_Uttarahalli + 41.257747 * location_Uvce Layout + 0.000000 * location_V.V Puram + -11.611397 * location_VGP Layout + 47.341216 * location_VHBCS Layout + -4.333955 * location_Vadarpalya + -0.000000 * location_Vaderahalli + 14.017203 * location_Vajarahalli + -18.398480 * location_Varanasi + -12.017407 * location_Varsova Layout + -4.573088 * location_Varthur + -14.388903 * location_Varthur Road + 0.786382 * location_Varthur Road,  + -19.893380 * location_Vasantapura main road + 72.401041 * location_Vasanth nagar + 3.114796 * location_Vasantha Vallabha Nagar + -15.724309 * location_Vasanthapura + -0.000000 * location_Vasanthpura + -19.406589 * location_Vasatha Vallbha Nagar + -20.095926 * location_Veer Sandra + 20.154649 * location_Veerabhadra Nagar + -10.737305 * location_Veerannapalya + -8.791454 * location_Veersandra + 20.576718 * location_Venkatadri Layout + 13.643932 * location_Venkatapura + -22.273796 * location_Venkateshpuram + 0.000000 * location_Venkateswara Nagar + -5.631535 * location_Venugopal Reddy Layout + 0.000000 * location_Vibhutipura Extension + 0.000000 * location_Vibuthipura + 56.689015 * location_Victoria Layout + -0.000000 * location_Vidhyanagar Cross + 2.691235 * location_Vidyapeeta + 0.595093 * location_Vidyaranyapura + -4.827127 * location_Vignana Nagar + -8.234103 * location_Vijaya Bank Colony + 11.698027 * location_Vijaya Bank Layout + -9.687149 * location_Vijayabank bank layout + 14.887031 * location_Vijayanagar + 10.804940 * location_Vijinapura + -14.975504 * location_Vikram Nagar + -26.992576 * location_Vimanapura + 13.101486 * location_Vinayak Nagar + -3.491003 * location_Vinayaka Nagar + -3.448308 * location_Virat Nagar + -41.940488 * location_Virgonagar + 10.699431 * location_Virudhu Nagar + 6.663961 * location_Virupakshapura + -0.450946 * location_Vishveshwarya Layout + -0.459105 * location_Vishwanatha Nagenahalli + -13.906362 * location_Vishwapriya Layout + 7.765544 * location_Vishwapriya Nagar + 5.527707 * location_Viswajit Layout + -7.716131 * location_Vittal Nagar + 2.767995 * location_Vittasandra + 23.005071 * location_Vivek Nagar + -17.149228 * location_Volagerekallahalli + 17.312850 * location_Vyalikaval + 9.390859 * location_Weavers Colony + 99.910037 * location_West of Chord Road + 14.517769 * location_Wheelers Road + 3.865957 * location_Whietfield,  + 2.848275 * location_Whitefield + 11.466764 * location_Whitefield ECC Road + -4.492775 * location_Whitefield,  + 25.363083 * location_Williams Town + 51.023024 * location_Wilson Garden + -19.925272 * location_Yarandahalli + 27.753548 * location_Yelachenahalli + -2.952090 * location_Yelahanka + 1.911221 * location_Yelahanka New Town + -98.568150 * location_Yelahanka,MVIT college + -11.645297 * location_Yelenahalli + 6.028337 * location_Yemlur + 22.836259 * location_Yemlur, Old Airport Road,  + 22.131844 * location_Yeshwanthpur + 55.851421 * location_Yeshwanthpur Industrial Suburb + -6.565205 * location_Zuzuvadi + -0.000000 * location_adigondanhalli + 11.422403 * location_akshaya nagar t c palya + 81.219935 * location_anjananager magdi road + 3.977433 * location_banashankari stage iii sa + 2.262681 * location_basaveshwarnagar + 0.000000 * location_bsk 6th stage 2ad block near sri conversation hall + 93.263102 * location_cooketown + -4.591027 * location_elachenahalli + 108.104870 * location_frazertown + 0.000000 * location_kadubisnahalli + 0.000000 * location_kamanahalli main road + -19.829495 * location_kanakapura main road + -0.000000 * location_kanakapura road + 1.506121 * location_kg halli jalhalli west + -9.235094 * location_manyata + -6.958942 * location_manyata park + -2.888559 * location_manyata tech park + -27.250065 * location_mvj engineering college + -18.029537 * location_near Ramanashree California resort + 99.435969 * location_pavitra paradise + 74.011040 * location_poornaprajna layout + -0.000000 * location_ravindra nagar, T.dasarahalli peenya + -3.788159 * location_rr nagar + 0.000000 * location_sankeswari + 69.751372 * location_sapthagiri Layout + 32.529836 * location_singapura paradise + 0.657733 * location_tc.palya + -20.992528 * location_whitefiled\n",
            "\n",
            "Value of β0 (Intercept): -15.016502645227604\n",
            "\n",
            "Significant Features:\n",
            "                           Feature  Coefficient\n",
            "1                             bath    17.244156\n",
            "2                          balcony    -1.107445\n",
            "3                             size     6.445937\n",
            "4              location_ Banaswadi    13.663606\n",
            "5            location_ Basavangudi    26.335048\n",
            "...                            ...          ...\n",
            "1130  location_poornaprajna layout    74.011040\n",
            "1132             location_rr nagar    -3.788159\n",
            "1134    location_sapthagiri Layout    69.751372\n",
            "1135   location_singapura paradise    32.529836\n",
            "1137           location_whitefiled   -20.992528\n",
            "\n",
            "[1020 rows x 2 columns]\n"
          ]
        }
      ]
    },
    {
      "cell_type": "code",
      "source": [
        "y_pred = model.predict(X_test)"
      ],
      "metadata": {
        "id": "CQPpbO6hNXuH"
      },
      "execution_count": 124,
      "outputs": []
    },
    {
      "cell_type": "code",
      "source": [
        "error = y_test - y_pred\n",
        "squared_error = error ** 2"
      ],
      "metadata": {
        "id": "uNcBk10KNbga"
      },
      "execution_count": 125,
      "outputs": []
    },
    {
      "cell_type": "code",
      "source": [
        "results_df = pd.DataFrame({\n",
        "    'Actual Price': y_test,\n",
        "    'Predicted Price': y_pred,\n",
        "    'Error': error,\n",
        "    'Squared Error': squared_error\n",
        "})\n",
        "results_df.head()"
      ],
      "metadata": {
        "colab": {
          "base_uri": "https://localhost:8080/",
          "height": 206
        },
        "id": "juk0kIjfNcFQ",
        "outputId": "eb6dfc22-5804-4ca4-c5bf-e3980636e082"
      },
      "execution_count": 126,
      "outputs": [
        {
          "output_type": "execute_result",
          "data": {
            "text/plain": [
              "       Actual Price  Predicted Price      Error  Squared Error\n",
              "2221          75.00        63.067313  11.932687     142.389016\n",
              "4017          75.00        69.649158   5.350842      28.631505\n",
              "6105          55.00        60.749543  -5.749543      33.057249\n",
              "10410         33.51        39.884324  -6.374324      40.632004\n",
              "9017          34.00        23.136365  10.863635     118.018567"
            ],
            "text/html": [
              "\n",
              "  <div id=\"df-3231dd66-1c77-4c39-8b53-ff22d14c6535\" class=\"colab-df-container\">\n",
              "    <div>\n",
              "<style scoped>\n",
              "    .dataframe tbody tr th:only-of-type {\n",
              "        vertical-align: middle;\n",
              "    }\n",
              "\n",
              "    .dataframe tbody tr th {\n",
              "        vertical-align: top;\n",
              "    }\n",
              "\n",
              "    .dataframe thead th {\n",
              "        text-align: right;\n",
              "    }\n",
              "</style>\n",
              "<table border=\"1\" class=\"dataframe\">\n",
              "  <thead>\n",
              "    <tr style=\"text-align: right;\">\n",
              "      <th></th>\n",
              "      <th>Actual Price</th>\n",
              "      <th>Predicted Price</th>\n",
              "      <th>Error</th>\n",
              "      <th>Squared Error</th>\n",
              "    </tr>\n",
              "  </thead>\n",
              "  <tbody>\n",
              "    <tr>\n",
              "      <th>2221</th>\n",
              "      <td>75.00</td>\n",
              "      <td>63.067313</td>\n",
              "      <td>11.932687</td>\n",
              "      <td>142.389016</td>\n",
              "    </tr>\n",
              "    <tr>\n",
              "      <th>4017</th>\n",
              "      <td>75.00</td>\n",
              "      <td>69.649158</td>\n",
              "      <td>5.350842</td>\n",
              "      <td>28.631505</td>\n",
              "    </tr>\n",
              "    <tr>\n",
              "      <th>6105</th>\n",
              "      <td>55.00</td>\n",
              "      <td>60.749543</td>\n",
              "      <td>-5.749543</td>\n",
              "      <td>33.057249</td>\n",
              "    </tr>\n",
              "    <tr>\n",
              "      <th>10410</th>\n",
              "      <td>33.51</td>\n",
              "      <td>39.884324</td>\n",
              "      <td>-6.374324</td>\n",
              "      <td>40.632004</td>\n",
              "    </tr>\n",
              "    <tr>\n",
              "      <th>9017</th>\n",
              "      <td>34.00</td>\n",
              "      <td>23.136365</td>\n",
              "      <td>10.863635</td>\n",
              "      <td>118.018567</td>\n",
              "    </tr>\n",
              "  </tbody>\n",
              "</table>\n",
              "</div>\n",
              "    <div class=\"colab-df-buttons\">\n",
              "\n",
              "  <div class=\"colab-df-container\">\n",
              "    <button class=\"colab-df-convert\" onclick=\"convertToInteractive('df-3231dd66-1c77-4c39-8b53-ff22d14c6535')\"\n",
              "            title=\"Convert this dataframe to an interactive table.\"\n",
              "            style=\"display:none;\">\n",
              "\n",
              "  <svg xmlns=\"http://www.w3.org/2000/svg\" height=\"24px\" viewBox=\"0 -960 960 960\">\n",
              "    <path d=\"M120-120v-720h720v720H120Zm60-500h600v-160H180v160Zm220 220h160v-160H400v160Zm0 220h160v-160H400v160ZM180-400h160v-160H180v160Zm440 0h160v-160H620v160ZM180-180h160v-160H180v160Zm440 0h160v-160H620v160Z\"/>\n",
              "  </svg>\n",
              "    </button>\n",
              "\n",
              "  <style>\n",
              "    .colab-df-container {\n",
              "      display:flex;\n",
              "      gap: 12px;\n",
              "    }\n",
              "\n",
              "    .colab-df-convert {\n",
              "      background-color: #E8F0FE;\n",
              "      border: none;\n",
              "      border-radius: 50%;\n",
              "      cursor: pointer;\n",
              "      display: none;\n",
              "      fill: #1967D2;\n",
              "      height: 32px;\n",
              "      padding: 0 0 0 0;\n",
              "      width: 32px;\n",
              "    }\n",
              "\n",
              "    .colab-df-convert:hover {\n",
              "      background-color: #E2EBFA;\n",
              "      box-shadow: 0px 1px 2px rgba(60, 64, 67, 0.3), 0px 1px 3px 1px rgba(60, 64, 67, 0.15);\n",
              "      fill: #174EA6;\n",
              "    }\n",
              "\n",
              "    .colab-df-buttons div {\n",
              "      margin-bottom: 4px;\n",
              "    }\n",
              "\n",
              "    [theme=dark] .colab-df-convert {\n",
              "      background-color: #3B4455;\n",
              "      fill: #D2E3FC;\n",
              "    }\n",
              "\n",
              "    [theme=dark] .colab-df-convert:hover {\n",
              "      background-color: #434B5C;\n",
              "      box-shadow: 0px 1px 3px 1px rgba(0, 0, 0, 0.15);\n",
              "      filter: drop-shadow(0px 1px 2px rgba(0, 0, 0, 0.3));\n",
              "      fill: #FFFFFF;\n",
              "    }\n",
              "  </style>\n",
              "\n",
              "    <script>\n",
              "      const buttonEl =\n",
              "        document.querySelector('#df-3231dd66-1c77-4c39-8b53-ff22d14c6535 button.colab-df-convert');\n",
              "      buttonEl.style.display =\n",
              "        google.colab.kernel.accessAllowed ? 'block' : 'none';\n",
              "\n",
              "      async function convertToInteractive(key) {\n",
              "        const element = document.querySelector('#df-3231dd66-1c77-4c39-8b53-ff22d14c6535');\n",
              "        const dataTable =\n",
              "          await google.colab.kernel.invokeFunction('convertToInteractive',\n",
              "                                                    [key], {});\n",
              "        if (!dataTable) return;\n",
              "\n",
              "        const docLinkHtml = 'Like what you see? Visit the ' +\n",
              "          '<a target=\"_blank\" href=https://colab.research.google.com/notebooks/data_table.ipynb>data table notebook</a>'\n",
              "          + ' to learn more about interactive tables.';\n",
              "        element.innerHTML = '';\n",
              "        dataTable['output_type'] = 'display_data';\n",
              "        await google.colab.output.renderOutput(dataTable, element);\n",
              "        const docLink = document.createElement('div');\n",
              "        docLink.innerHTML = docLinkHtml;\n",
              "        element.appendChild(docLink);\n",
              "      }\n",
              "    </script>\n",
              "  </div>\n",
              "\n",
              "\n",
              "<div id=\"df-1e5af85b-fa45-401a-aa19-a0a8b031796e\">\n",
              "  <button class=\"colab-df-quickchart\" onclick=\"quickchart('df-1e5af85b-fa45-401a-aa19-a0a8b031796e')\"\n",
              "            title=\"Suggest charts\"\n",
              "            style=\"display:none;\">\n",
              "\n",
              "<svg xmlns=\"http://www.w3.org/2000/svg\" height=\"24px\"viewBox=\"0 0 24 24\"\n",
              "     width=\"24px\">\n",
              "    <g>\n",
              "        <path d=\"M19 3H5c-1.1 0-2 .9-2 2v14c0 1.1.9 2 2 2h14c1.1 0 2-.9 2-2V5c0-1.1-.9-2-2-2zM9 17H7v-7h2v7zm4 0h-2V7h2v10zm4 0h-2v-4h2v4z\"/>\n",
              "    </g>\n",
              "</svg>\n",
              "  </button>\n",
              "\n",
              "<style>\n",
              "  .colab-df-quickchart {\n",
              "      --bg-color: #E8F0FE;\n",
              "      --fill-color: #1967D2;\n",
              "      --hover-bg-color: #E2EBFA;\n",
              "      --hover-fill-color: #174EA6;\n",
              "      --disabled-fill-color: #AAA;\n",
              "      --disabled-bg-color: #DDD;\n",
              "  }\n",
              "\n",
              "  [theme=dark] .colab-df-quickchart {\n",
              "      --bg-color: #3B4455;\n",
              "      --fill-color: #D2E3FC;\n",
              "      --hover-bg-color: #434B5C;\n",
              "      --hover-fill-color: #FFFFFF;\n",
              "      --disabled-bg-color: #3B4455;\n",
              "      --disabled-fill-color: #666;\n",
              "  }\n",
              "\n",
              "  .colab-df-quickchart {\n",
              "    background-color: var(--bg-color);\n",
              "    border: none;\n",
              "    border-radius: 50%;\n",
              "    cursor: pointer;\n",
              "    display: none;\n",
              "    fill: var(--fill-color);\n",
              "    height: 32px;\n",
              "    padding: 0;\n",
              "    width: 32px;\n",
              "  }\n",
              "\n",
              "  .colab-df-quickchart:hover {\n",
              "    background-color: var(--hover-bg-color);\n",
              "    box-shadow: 0 1px 2px rgba(60, 64, 67, 0.3), 0 1px 3px 1px rgba(60, 64, 67, 0.15);\n",
              "    fill: var(--button-hover-fill-color);\n",
              "  }\n",
              "\n",
              "  .colab-df-quickchart-complete:disabled,\n",
              "  .colab-df-quickchart-complete:disabled:hover {\n",
              "    background-color: var(--disabled-bg-color);\n",
              "    fill: var(--disabled-fill-color);\n",
              "    box-shadow: none;\n",
              "  }\n",
              "\n",
              "  .colab-df-spinner {\n",
              "    border: 2px solid var(--fill-color);\n",
              "    border-color: transparent;\n",
              "    border-bottom-color: var(--fill-color);\n",
              "    animation:\n",
              "      spin 1s steps(1) infinite;\n",
              "  }\n",
              "\n",
              "  @keyframes spin {\n",
              "    0% {\n",
              "      border-color: transparent;\n",
              "      border-bottom-color: var(--fill-color);\n",
              "      border-left-color: var(--fill-color);\n",
              "    }\n",
              "    20% {\n",
              "      border-color: transparent;\n",
              "      border-left-color: var(--fill-color);\n",
              "      border-top-color: var(--fill-color);\n",
              "    }\n",
              "    30% {\n",
              "      border-color: transparent;\n",
              "      border-left-color: var(--fill-color);\n",
              "      border-top-color: var(--fill-color);\n",
              "      border-right-color: var(--fill-color);\n",
              "    }\n",
              "    40% {\n",
              "      border-color: transparent;\n",
              "      border-right-color: var(--fill-color);\n",
              "      border-top-color: var(--fill-color);\n",
              "    }\n",
              "    60% {\n",
              "      border-color: transparent;\n",
              "      border-right-color: var(--fill-color);\n",
              "    }\n",
              "    80% {\n",
              "      border-color: transparent;\n",
              "      border-right-color: var(--fill-color);\n",
              "      border-bottom-color: var(--fill-color);\n",
              "    }\n",
              "    90% {\n",
              "      border-color: transparent;\n",
              "      border-bottom-color: var(--fill-color);\n",
              "    }\n",
              "  }\n",
              "</style>\n",
              "\n",
              "  <script>\n",
              "    async function quickchart(key) {\n",
              "      const quickchartButtonEl =\n",
              "        document.querySelector('#' + key + ' button');\n",
              "      quickchartButtonEl.disabled = true;  // To prevent multiple clicks.\n",
              "      quickchartButtonEl.classList.add('colab-df-spinner');\n",
              "      try {\n",
              "        const charts = await google.colab.kernel.invokeFunction(\n",
              "            'suggestCharts', [key], {});\n",
              "      } catch (error) {\n",
              "        console.error('Error during call to suggestCharts:', error);\n",
              "      }\n",
              "      quickchartButtonEl.classList.remove('colab-df-spinner');\n",
              "      quickchartButtonEl.classList.add('colab-df-quickchart-complete');\n",
              "    }\n",
              "    (() => {\n",
              "      let quickchartButtonEl =\n",
              "        document.querySelector('#df-1e5af85b-fa45-401a-aa19-a0a8b031796e button');\n",
              "      quickchartButtonEl.style.display =\n",
              "        google.colab.kernel.accessAllowed ? 'block' : 'none';\n",
              "    })();\n",
              "  </script>\n",
              "</div>\n",
              "\n",
              "    </div>\n",
              "  </div>\n"
            ],
            "application/vnd.google.colaboratory.intrinsic+json": {
              "type": "dataframe",
              "variable_name": "results_df",
              "summary": "{\n  \"name\": \"results_df\",\n  \"rows\": 2224,\n  \"fields\": [\n    {\n      \"column\": \"Actual Price\",\n      \"properties\": {\n        \"dtype\": \"number\",\n        \"std\": 41.39044498649469,\n        \"min\": 10.0,\n        \"max\": 224.0,\n        \"num_unique_values\": 585,\n        \"samples\": [\n          53.33,\n          26.85,\n          48.0\n        ],\n        \"semantic_type\": \"\",\n        \"description\": \"\"\n      }\n    },\n    {\n      \"column\": \"Predicted Price\",\n      \"properties\": {\n        \"dtype\": \"number\",\n        \"std\": 3405061960.558534,\n        \"min\": -51495292334.08714,\n        \"max\": 109559544570.43651,\n        \"num_unique_values\": 2050,\n        \"samples\": [\n          66.2007381403731,\n          56.94708835645966,\n          81.96662844373986\n        ],\n        \"semantic_type\": \"\",\n        \"description\": \"\"\n      }\n    },\n    {\n      \"column\": \"Error\",\n      \"properties\": {\n        \"dtype\": \"number\",\n        \"std\": 3405061959.82085,\n        \"min\": -109559544490.43651,\n        \"max\": 51495292433.08714,\n        \"num_unique_values\": 2177,\n        \"samples\": [\n          -0.8074587368128903,\n          2.678085545884784,\n          -16.125842690661813\n        ],\n        \"semantic_type\": \"\",\n        \"description\": \"\"\n      }\n    },\n    {\n      \"column\": \"Squared Error\",\n      \"properties\": {\n        \"dtype\": \"number\",\n        \"std\": 2.881768726037816e+20,\n        \"min\": 3.645753485865078e-05,\n        \"max\": 1.2003293788951936e+22,\n        \"num_unique_values\": 2177,\n        \"samples\": [\n          0.6519896116554684,\n          7.1721421910770005,\n          260.042802483971\n        ],\n        \"semantic_type\": \"\",\n        \"description\": \"\"\n      }\n    }\n  ]\n}"
            }
          },
          "metadata": {},
          "execution_count": 126
        }
      ]
    },
    {
      "cell_type": "markdown",
      "source": [
        "# Actual vs Predict"
      ],
      "metadata": {
        "id": "PBZFz2nXN-Ll"
      }
    },
    {
      "cell_type": "code",
      "source": [
        "mse = mean_squared_error(y_test, y_pred)"
      ],
      "metadata": {
        "id": "rrQc2GAyNdTM"
      },
      "execution_count": 127,
      "outputs": []
    },
    {
      "cell_type": "code",
      "source": [
        "rmse = np.sqrt(mse)"
      ],
      "metadata": {
        "id": "E9Uo-pfTN4E-"
      },
      "execution_count": 128,
      "outputs": []
    },
    {
      "cell_type": "code",
      "source": [
        "mae = mean_absolute_error(y_test, y_pred)"
      ],
      "metadata": {
        "id": "tTWRYYwtOCDS"
      },
      "execution_count": 129,
      "outputs": []
    },
    {
      "cell_type": "code",
      "source": [
        "print(\"Mean Squared Error (MSE):-\", mse)\n",
        "print(\"Root Mean Squared Error (RMSE):-\", rmse)\n",
        "print(\"Mean Absolute Error (MAE):-\", mae)"
      ],
      "metadata": {
        "colab": {
          "base_uri": "https://localhost:8080/"
        },
        "id": "CUFP3L_7OD5o",
        "outputId": "dc541425-d861-434b-9bfc-68694f6418d7"
      },
      "execution_count": 130,
      "outputs": [
        {
          "output_type": "stream",
          "name": "stdout",
          "text": [
            "Mean Squared Error (MSE):- 1.1601670027937626e+19\n",
            "Root Mean Squared Error (RMSE):- 3406122432.9048457\n",
            "Mean Absolute Error (MAE):- 209891467.66815516\n"
          ]
        }
      ]
    },
    {
      "cell_type": "markdown",
      "source": [],
      "metadata": {
        "id": "8yIpITZzOKMx"
      }
    },
    {
      "cell_type": "code",
      "source": [
        "plt.figure(figsize=(10, 6))\n",
        "plt.scatter(y_test, y_pred, color='blue', alpha=0.5)\n",
        "plt.plot([min(y_test), max(y_test)], [min(y_test), max(y_test)], color='red')\n",
        "plt.title('Actual Prices vs. Predicted Prices')\n",
        "plt.xlabel('Actual Prices')\n",
        "plt.ylabel('Predicted Prices')\n",
        "plt.grid(True)\n",
        "plt.show()"
      ],
      "metadata": {
        "colab": {
          "base_uri": "https://localhost:8080/",
          "height": 564
        },
        "id": "lGzwgl-ZOI_X",
        "outputId": "b14a9c2f-04e9-4188-8f02-57eb78f71d09"
      },
      "execution_count": 131,
      "outputs": [
        {
          "output_type": "display_data",
          "data": {
            "text/plain": [
              "<Figure size 1000x600 with 1 Axes>"
            ],
            "image/png": "[encoded data removed]"
          },
          "metadata": {}
        }
      ]
    },
    {
      "cell_type": "code",
      "source": [
        "plt.figure(figsize=(10, 6))\n",
        "plt.hist(error, bins=30, color='green', alpha=0.7)\n",
        "plt.title('Histogram of Errors')\n",
        "plt.xlabel('Error')\n",
        "plt.ylabel('Frequency')\n",
        "plt.grid(True)\n",
        "plt.show()"
      ],
      "metadata": {
        "colab": {
          "base_uri": "https://localhost:8080/",
          "height": 564
        },
        "id": "XCL1IxvWOSAa",
        "outputId": "4fa2c1de-18ef-4168-9c93-9dd32b3b142f"
      },
      "execution_count": 132,
      "outputs": [
        {
          "output_type": "display_data",
          "data": {
            "text/plain": [
              "<Figure size 1000x600 with 1 Axes>"
            ],
            "image/png": "[encoded data removed]"
          },
          "metadata": {}
        }
      ]
    },
    {
      "cell_type": "code",
      "source": [
        "final_output_df = df_selected.copy()"
      ],
      "metadata": {
        "id": "ZwwHqhR3OUI5"
      },
      "execution_count": 133,
      "outputs": []
    },
    {
      "cell_type": "code",
      "source": [
        "output_df = pd.DataFrame({\n",
        "    'Actual Price': y_test,\n",
        "    'Predicted Price': y_pred,\n",
        "    'Error': y_test - y_pred,\n",
        "    'Squared Error': (y_test - y_pred) ** 2\n",
        "})"
      ],
      "metadata": {
        "id": "00KDqIXuOWN2"
      },
      "execution_count": 134,
      "outputs": []
    },
    {
      "cell_type": "code",
      "source": [
        "final_output_df = pd.concat([df_selected, output_df], axis=1)"
      ],
      "metadata": {
        "id": "u35bBTZiOXkh"
      },
      "execution_count": 135,
      "outputs": []
    },
    {
      "cell_type": "code",
      "source": [
        "print(final_output_df)"
      ],
      "metadata": {
        "colab": {
          "base_uri": "https://localhost:8080/"
        },
        "id": "3ZWAIWytOY0H",
        "outputId": "d8445a91-515f-4a63-e24e-0dff0eb0a9ab"
      },
      "execution_count": 136,
      "outputs": [
        {
          "output_type": "stream",
          "name": "stdout",
          "text": [
            "       total_sqft  bath  balcony  size                  location   price  \\\n",
            "0          1056.0   2.0      1.0     2  Electronic City Phase II   39.07   \n",
            "2          1440.0   2.0      3.0     3               Uttarahalli   62.00   \n",
            "3          1521.0   3.0      1.0     3        Lingadheeranahalli   95.00   \n",
            "4          1200.0   2.0      1.0     2                  Kothanur   51.00   \n",
            "5          1170.0   2.0      1.0     2                Whitefield   38.00   \n",
            "...           ...   ...      ...   ...                       ...     ...   \n",
            "13306      1262.0   2.0      2.0     2                 Bellandur   47.00   \n",
            "13307      1345.0   2.0      1.0     3               Uttarahalli   57.00   \n",
            "13308      1715.0   3.0      3.0     3         Green Glen Layout  112.00   \n",
            "13311      1141.0   2.0      1.0     2     Raja Rajeshwari Nagar   60.00   \n",
            "13313       550.0   1.0      1.0     1              Doddathoguru   17.00   \n",
            "\n",
            "       Actual Price  Predicted Price      Error  Squared Error  \n",
            "0             39.07        37.385400   1.684600       2.837878  \n",
            "2               NaN              NaN        NaN            NaN  \n",
            "3               NaN              NaN        NaN            NaN  \n",
            "4             51.00        59.723507  -8.723507      76.099568  \n",
            "5               NaN              NaN        NaN            NaN  \n",
            "...             ...              ...        ...            ...  \n",
            "13306           NaN              NaN        NaN            NaN  \n",
            "13307           NaN              NaN        NaN            NaN  \n",
            "13308           NaN              NaN        NaN            NaN  \n",
            "13311         60.00        47.723621  12.276379     150.709481  \n",
            "13313         17.00         2.435244  14.564756     212.132123  \n",
            "\n",
            "[11116 rows x 10 columns]\n"
          ]
        }
      ]
    },
    {
      "cell_type": "code",
      "source": [
        "final_output_df.dropna(subset=['Actual Price', 'Predicted Price', 'Error', 'Squared Error'], inplace=True)\n",
        "print(final_output_df)"
      ],
      "metadata": {
        "colab": {
          "base_uri": "https://localhost:8080/"
        },
        "id": "WX_mObSTOaFp",
        "outputId": "3bb8a549-93e9-45f0-a1eb-287ea54cd6c4"
      },
      "execution_count": 137,
      "outputs": [
        {
          "output_type": "stream",
          "name": "stdout",
          "text": [
            "       total_sqft  bath  balcony  size                  location   price  \\\n",
            "0          1056.0   2.0      1.0     2  Electronic City Phase II   39.07   \n",
            "4          1200.0   2.0      1.0     2                  Kothanur   51.00   \n",
            "13         1100.0   2.0      2.0     2                 Gottigere   40.00   \n",
            "15         1175.0   2.0      2.0     2               Mysore Road   73.50   \n",
            "20          600.0   1.0      1.0     1                   Kengeri   15.00   \n",
            "...           ...   ...      ...   ...                       ...     ...   \n",
            "13298      1187.0   2.0      2.0     2     Raja Rajeshwari Nagar   40.14   \n",
            "13302      1527.0   3.0      1.0     3         Bannerghatta Road  142.00   \n",
            "13304      1050.0   2.0      2.0     2              Rachenahalli   52.71   \n",
            "13311      1141.0   2.0      1.0     2     Raja Rajeshwari Nagar   60.00   \n",
            "13313       550.0   1.0      1.0     1              Doddathoguru   17.00   \n",
            "\n",
            "       Actual Price  Predicted Price      Error  Squared Error  \n",
            "0             39.07        37.385400   1.684600       2.837878  \n",
            "4             51.00        59.723507  -8.723507      76.099568  \n",
            "13            40.00        46.911823  -6.911823      47.773295  \n",
            "15            73.50        57.015036  16.484964     271.754041  \n",
            "20            15.00        11.408199   3.591801      12.901036  \n",
            "...             ...              ...        ...            ...  \n",
            "13298         40.14        47.721470  -7.581470      57.478685  \n",
            "13302        142.00        92.502098  49.497902    2450.042310  \n",
            "13304         52.71        56.797350  -4.087350      16.706429  \n",
            "13311         60.00        47.723621  12.276379     150.709481  \n",
            "13313         17.00         2.435244  14.564756     212.132123  \n",
            "\n",
            "[2224 rows x 10 columns]\n"
          ]
        }
      ]
    },
    {
      "cell_type": "code",
      "source": [
        "\n",
        "squared_errors = final_output_df['Error'] ** 2\n",
        "mean_squared_error = squared_errors.mean()\n",
        "rmse = np.sqrt(mean_squared_error)"
      ],
      "metadata": {
        "id": "3jGxEXl1OdnL"
      },
      "execution_count": 138,
      "outputs": []
    },
    {
      "cell_type": "code",
      "source": [
        "print(\"Root Mean Squared Error:-\", rmse)"
      ],
      "metadata": {
        "colab": {
          "base_uri": "https://localhost:8080/"
        },
        "id": "ZkAj8oQ9Ohdu",
        "outputId": "9b845c76-3916-42e8-99d2-4ba55b20770b"
      },
      "execution_count": 139,
      "outputs": [
        {
          "output_type": "stream",
          "name": "stdout",
          "text": [
            "Root Mean Squared Error:- 3406122432.904846\n"
          ]
        }
      ]
    },
    {
      "cell_type": "code",
      "source": [
        "final_output_df.to_csv('final_output.csv', index=False)"
      ],
      "metadata": {
        "id": "GHUoO4Q5Oi6w"
      },
      "execution_count": 140,
      "outputs": []
    }
  ]
}